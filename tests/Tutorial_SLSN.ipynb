{
 "cells": [
  {
   "cell_type": "markdown",
   "metadata": {},
   "source": [
    "# Tutorial: Generating Type Ia SN lightcurves based on ztf_sim output \n",
    "\n",
    "This notebook shows how to load the output for Eric's survey simulator `ztf_sim` and generate SN Ia lightcurves using the SALT2 template. (Check out the other notebooks for examples how to simulate other transients.)\n",
    "\n",
    "*Note:* You need to download Eric's newest sample output [here](https://drive.google.com/file/d/1sB6r21ALG7ZKetvE734JS-UpLa3iwWSz/view). The link was also included in Eric's email, so you will likely only need to change the path below.\n",
    "\n",
    "Furthermore you'll require the dust map from Schlegel, Finkbeiner & Davis (1998) for full functionality. It can be found [here](https://github.com/kbarbary/sfddata/archive/master.tar.gz)."
   ]
  },
  {
   "cell_type": "code",
   "execution_count": 1,
   "metadata": {},
   "outputs": [],
   "source": [
    "# xxxxxxxxxxxxxxxxxxxxxxxxxxxxxxxxxxxxxxxxxxxxxxxxxxxxxxxxxxxxxxxxxxxxxxxxxxxxxxxxxxxxxxxxxxxxxxxxxxxxxxxxxxxxxxxxxxx #\n",
    "# xxxxxxxxxxxxxxxxxxxxxxx--------------Generating Type Ia Light Curves----------------------xxxxxxxxxxxxxxxxxxxxxxxxx #\n",
    "# xxxxxxxxxxxxxxxxxxxxxxxxxxxxxxxxxxxxxxxxxxxxxxxxxxxxxxxxxxxxxxxxxxxxxxxxxxxxxxxxxxxxxxxxxxxxxxxxxxxxxxxxxxxxxxxxxxx #\n",
    "\n",
    "import time\n",
    "t1 = time.time()\n",
    "# ------------------------------------------------------------------------------------------------------------------- #\n",
    "# Import Modules\n",
    "# ------------------------------------------------------------------------------------------------------------------- #\n",
    "import os\n",
    "import numpy as np\n",
    "import pandas as pd\n",
    "import matplotlib.pyplot as plt\n",
    "\n",
    "import sncosmo\n",
    "import simsurvey\n",
    "import simsurvey_tools as sst\n",
    "from astropy.cosmology import Planck15\n",
    "from astropy.table import Table, vstack, hstack\n",
    "# ------------------------------------------------------------------------------------------------------------------- #\n",
    "\n",
    "\n",
    "# ------------------------------------------------------------------------------------------------------------------- #\n",
    "# Initialize Directories\n",
    "# ------------------------------------------------------------------------------------------------------------------- #\n",
    "os.environ[\"HOME\"] = \"/data/asingh/simsurvey\"\n",
    "DIR_HOME = os.environ.get(\"HOME\")\n",
    "DIR_DATA = \"/data/cfremling/simsurvey\"\n",
    "\n",
    "# Enter the name of the 'ztf_sim' output file you would like to use.\n",
    "# survey_file = os.path.join(DIR_HOME, \"data/test_schedule_v6.db\")\n",
    "survey_file = os.path.join(DIR_DATA, \"notebooks/df_sim_stats_full.p\")\n",
    "survey_fields = os.path.join(DIR_DATA, \"data/ZTF_Fields.txt\")\n",
    "\n",
    "# Enter the name of the dust map files of Schlegel, Finkbeiner & Davis (1998)\n",
    "sfd98_dir = os.path.join(DIR_HOME, \"data/sfd98\")\n",
    "# ------------------------------------------------------------------------------------------------------------------- #\n",
    "\n",
    "\n",
    "# ------------------------------------------------------------------------------------------------------------------- #\n",
    "# Load ZTF Fields, CCD Corners and Filters\n",
    "# ------------------------------------------------------------------------------------------------------------------- #\n",
    "raw_fields = np.genfromtxt(survey_fields, comments='%')\n",
    "fields = {'field_id': np.array(raw_fields[:,0], dtype=int), 'ra': raw_fields[:,1], 'dec': raw_fields[:,2]}\n",
    "\n",
    "ccds = sst.load_ztf_ccds()\n",
    "sst.load_ztf_filters()\n",
    "# ------------------------------------------------------------------------------------------------------------------- #"
   ]
  },
  {
   "cell_type": "code",
   "execution_count": 2,
   "metadata": {},
   "outputs": [],
   "source": [
    "def mod_df(inp_df):\n",
    "    \"\"\"\n",
    "    Modify the input Pandas DataFrame to be passed to the SimSurvey.\n",
    "    Args:\n",
    "    inp_df   : Input DataFrame to be modified\n",
    "    Returns:\n",
    "    out_df   : Output DataFrame with relevant modifications\n",
    "    \"\"\"\n",
    "    band_dict = {1: 'ztfg', 2: 'ztfr', 3: 'ztfi'}\n",
    "    \n",
    "    out_df = inp_df.copy()\n",
    "    out_df['filterid'] = out_df['filterid'].apply(lambda band: band_dict[band])\n",
    "    out_df['skynoise'] = [(10 ** (-0.4 * (limmag - 30))) / 5. for limmag in out_df['limMag']]\n",
    "    print ('Survey pointings for All ZTF Programs: {0}'.format(len(out_df)))\n",
    "    print ('Survey pointings for MSIP Programs: {0}'.format(len(out_df[out_df['progid'] == 1])))\n",
    "#     out_df = out_df[out_df['fieldid'] < 881]                           # For using only main grid data\n",
    "    return out_df\n"
   ]
  },
  {
   "cell_type": "code",
   "execution_count": 10,
   "metadata": {},
   "outputs": [
    {
     "name": "stdout",
     "output_type": "stream",
     "text": [
      "Survey pointings for All ZTF Programs: 5338604\n",
      "Survey pointings for MSIP Programs: 5338604\n"
     ]
    }
   ],
   "source": [
    "# ------------------------------------------------------------------------------------------------------------------- #\n",
    "# Read the Raw ZTF Input Data\n",
    "# ------------------------------------------------------------------------------------------------------------------- #\n",
    "raw_df = pd.read_pickle(os.path.join(DIR_DATA, survey_file)).iloc[0:-1]\n",
    "raw_df = mod_df(raw_df)\n",
    "# ------------------------------------------------------------------------------------------------------------------- #"
   ]
  },
  {
   "cell_type": "code",
   "execution_count": 11,
   "metadata": {},
   "outputs": [
    {
     "ename": "IndexError",
     "evalue": "index -999999999 is out of bounds for axis 0 with size 1774",
     "output_type": "error",
     "traceback": [
      "\u001b[0;31m---------------------------------------------------------------------------\u001b[0m",
      "\u001b[0;31mIndexError\u001b[0m                                Traceback (most recent call last)",
      "\u001b[0;32m<ipython-input-11-f8a657918470>\u001b[0m in \u001b[0;36m<module>\u001b[0;34m()\u001b[0m\n\u001b[1;32m      5\u001b[0m plan = simsurvey.SurveyPlan(time=raw_df['jd'], band=raw_df['filterid'], obs_field=raw_df['fieldid'], \n\u001b[1;32m      6\u001b[0m                             \u001b[0mskynoise\u001b[0m\u001b[0;34m=\u001b[0m\u001b[0mraw_df\u001b[0m\u001b[0;34m[\u001b[0m\u001b[0;34m'skynoise'\u001b[0m\u001b[0;34m]\u001b[0m\u001b[0;34m,\u001b[0m \u001b[0mobs_ccd\u001b[0m\u001b[0;34m=\u001b[0m\u001b[0mraw_df\u001b[0m\u001b[0;34m[\u001b[0m\u001b[0;34m'chid'\u001b[0m\u001b[0;34m]\u001b[0m\u001b[0;34m,\u001b[0m \u001b[0mccds\u001b[0m\u001b[0;34m=\u001b[0m\u001b[0mccds\u001b[0m\u001b[0;34m,\u001b[0m \u001b[0mcomment\u001b[0m\u001b[0;34m=\u001b[0m\u001b[0mraw_df\u001b[0m\u001b[0;34m[\u001b[0m\u001b[0;34m'progid'\u001b[0m\u001b[0;34m]\u001b[0m\u001b[0;34m,\u001b[0m\u001b[0;34m\u001b[0m\u001b[0;34m\u001b[0m\u001b[0m\n\u001b[0;32m----> 7\u001b[0;31m                             fields={k: v for k, v in fields.items() if k in ['ra', 'dec', 'field_id']})\n\u001b[0m\u001b[1;32m      8\u001b[0m \u001b[0;34m\u001b[0m\u001b[0m\n\u001b[1;32m      9\u001b[0m \u001b[0mmjd_range\u001b[0m \u001b[0;34m=\u001b[0m \u001b[0;34m(\u001b[0m\u001b[0mplan\u001b[0m\u001b[0;34m.\u001b[0m\u001b[0mcadence\u001b[0m\u001b[0;34m[\u001b[0m\u001b[0;34m'time'\u001b[0m\u001b[0;34m]\u001b[0m\u001b[0;34m.\u001b[0m\u001b[0mmin\u001b[0m\u001b[0;34m(\u001b[0m\u001b[0;34m)\u001b[0m \u001b[0;34m-\u001b[0m \u001b[0;36m30\u001b[0m\u001b[0;34m,\u001b[0m \u001b[0mplan\u001b[0m\u001b[0;34m.\u001b[0m\u001b[0mcadence\u001b[0m\u001b[0;34m[\u001b[0m\u001b[0;34m'time'\u001b[0m\u001b[0;34m]\u001b[0m\u001b[0;34m.\u001b[0m\u001b[0mmax\u001b[0m\u001b[0;34m(\u001b[0m\u001b[0;34m)\u001b[0m \u001b[0;34m+\u001b[0m \u001b[0;36m30\u001b[0m\u001b[0;34m)\u001b[0m\u001b[0;34m\u001b[0m\u001b[0;34m\u001b[0m\u001b[0m\n",
      "\u001b[0;32m/data/lyan/anaconda3/lib/python3.7/site-packages/simsurvey/simulsurvey.py\u001b[0m in \u001b[0;36m__init__\u001b[0;34m(self, time, ra, dec, band, skynoise, obs_field, obs_ccd, zp, comment, width, height, fields, empty, load_opsim, **kwargs)\u001b[0m\n\u001b[1;32m    569\u001b[0m                     \u001b[0mobs_field\u001b[0m\u001b[0;34m=\u001b[0m\u001b[0mobs_field\u001b[0m\u001b[0;34m,\u001b[0m \u001b[0mobs_ccd\u001b[0m\u001b[0;34m=\u001b[0m\u001b[0mobs_ccd\u001b[0m\u001b[0;34m,\u001b[0m \u001b[0mzp\u001b[0m\u001b[0;34m=\u001b[0m\u001b[0mzp\u001b[0m\u001b[0;34m,\u001b[0m \u001b[0mcomment\u001b[0m\u001b[0;34m=\u001b[0m\u001b[0mcomment\u001b[0m\u001b[0;34m,\u001b[0m\u001b[0;34m\u001b[0m\u001b[0;34m\u001b[0m\u001b[0m\n\u001b[1;32m    570\u001b[0m                     \u001b[0mwidth\u001b[0m\u001b[0;34m=\u001b[0m\u001b[0mwidth\u001b[0m\u001b[0;34m,\u001b[0m \u001b[0mheight\u001b[0m\u001b[0;34m=\u001b[0m\u001b[0mheight\u001b[0m\u001b[0;34m,\u001b[0m \u001b[0mfields\u001b[0m\u001b[0;34m=\u001b[0m\u001b[0mfields\u001b[0m\u001b[0;34m,\u001b[0m\u001b[0;34m\u001b[0m\u001b[0;34m\u001b[0m\u001b[0m\n\u001b[0;32m--> 571\u001b[0;31m                     load_opsim=load_opsim, **kwargs)\n\u001b[0m\u001b[1;32m    572\u001b[0m \u001b[0;34m\u001b[0m\u001b[0m\n\u001b[1;32m    573\u001b[0m     def create(self, time=None, ra=None, dec=None, band=None, skynoise=None, \n",
      "\u001b[0;32m/data/lyan/anaconda3/lib/python3.7/site-packages/simsurvey/simulsurvey.py\u001b[0m in \u001b[0;36mcreate\u001b[0;34m(self, time, ra, dec, band, skynoise, obs_field, obs_ccd, zp, comment, width, height, fields, load_opsim, **kwargs)\u001b[0m\n\u001b[1;32m    587\u001b[0m             self.add_observation(time, band, skynoise, ra=ra, dec=dec,\n\u001b[1;32m    588\u001b[0m                                  \u001b[0mzp\u001b[0m\u001b[0;34m=\u001b[0m\u001b[0mzp\u001b[0m\u001b[0;34m,\u001b[0m \u001b[0mcomment\u001b[0m\u001b[0;34m=\u001b[0m\u001b[0mcomment\u001b[0m\u001b[0;34m,\u001b[0m \u001b[0mfield\u001b[0m\u001b[0;34m=\u001b[0m\u001b[0mobs_field\u001b[0m\u001b[0;34m,\u001b[0m\u001b[0;34m\u001b[0m\u001b[0;34m\u001b[0m\u001b[0m\n\u001b[0;32m--> 589\u001b[0;31m                                  ccd=obs_ccd)\n\u001b[0m\u001b[1;32m    590\u001b[0m         \u001b[0;32melse\u001b[0m\u001b[0;34m:\u001b[0m\u001b[0;34m\u001b[0m\u001b[0;34m\u001b[0m\u001b[0m\n\u001b[1;32m    591\u001b[0m             \u001b[0mself\u001b[0m\u001b[0;34m.\u001b[0m\u001b[0mload_opsim\u001b[0m\u001b[0;34m(\u001b[0m\u001b[0mload_opsim\u001b[0m\u001b[0;34m,\u001b[0m \u001b[0;34m**\u001b[0m\u001b[0mkwargs\u001b[0m\u001b[0;34m)\u001b[0m\u001b[0;34m\u001b[0m\u001b[0;34m\u001b[0m\u001b[0m\n",
      "\u001b[0;32m/data/lyan/anaconda3/lib/python3.7/site-packages/simsurvey/simulsurvey.py\u001b[0m in \u001b[0;36madd_observation\u001b[0;34m(self, time, band, skynoise, ra, dec, field, ccd, zp, comment)\u001b[0m\n\u001b[1;32m    627\u001b[0m             \u001b[0;32melse\u001b[0m\u001b[0;34m:\u001b[0m\u001b[0;34m\u001b[0m\u001b[0;34m\u001b[0m\u001b[0m\n\u001b[1;32m    628\u001b[0m                 \u001b[0midx\u001b[0m \u001b[0;34m=\u001b[0m \u001b[0mself\u001b[0m\u001b[0;34m.\u001b[0m\u001b[0mfields\u001b[0m\u001b[0;34m.\u001b[0m\u001b[0mfield_id_index\u001b[0m\u001b[0;34m[\u001b[0m\u001b[0mfield\u001b[0m\u001b[0;34m]\u001b[0m\u001b[0;34m\u001b[0m\u001b[0;34m\u001b[0m\u001b[0m\n\u001b[0;32m--> 629\u001b[0;31m                 \u001b[0mra\u001b[0m \u001b[0;34m=\u001b[0m \u001b[0mself\u001b[0m\u001b[0;34m.\u001b[0m\u001b[0mfields\u001b[0m\u001b[0;34m.\u001b[0m\u001b[0mra\u001b[0m\u001b[0;34m[\u001b[0m\u001b[0midx\u001b[0m\u001b[0;34m]\u001b[0m\u001b[0;34m\u001b[0m\u001b[0;34m\u001b[0m\u001b[0m\n\u001b[0m\u001b[1;32m    630\u001b[0m                 \u001b[0mdec\u001b[0m \u001b[0;34m=\u001b[0m \u001b[0mself\u001b[0m\u001b[0;34m.\u001b[0m\u001b[0mfields\u001b[0m\u001b[0;34m.\u001b[0m\u001b[0mdec\u001b[0m\u001b[0;34m[\u001b[0m\u001b[0midx\u001b[0m\u001b[0;34m]\u001b[0m\u001b[0;34m\u001b[0m\u001b[0;34m\u001b[0m\u001b[0m\n\u001b[1;32m    631\u001b[0m         \u001b[0;32melif\u001b[0m \u001b[0mfield\u001b[0m \u001b[0;32mis\u001b[0m \u001b[0;32mNone\u001b[0m\u001b[0;34m:\u001b[0m\u001b[0;34m\u001b[0m\u001b[0;34m\u001b[0m\u001b[0m\n",
      "\u001b[0;31mIndexError\u001b[0m: index -999999999 is out of bounds for axis 0 with size 1774"
     ]
    }
   ],
   "source": [
    "# ------------------------------------------------------------------------------------------------------------------- #\n",
    "# Load Simulated Survey from file (Download from ftp://ftp.astro.caltech.edu/users/ebellm/one_year_sim_incomplete.db)\n",
    "# Currently, DES filters are used as proxies for ZTF filters\n",
    "# ------------------------------------------------------------------------------------------------------------------- #\n",
    "plan = simsurvey.SurveyPlan(time=raw_df['jd'], band=raw_df['filterid'], obs_field=raw_df['fieldid'], \n",
    "                            skynoise=raw_df['skynoise'], obs_ccd=raw_df['chid'], ccds=ccds, comment=raw_df['progid'], \n",
    "                            fields={k: v for k, v in fields.items() if k in ['ra', 'dec', 'field_id']})\n",
    "\n",
    "mjd_range = (plan.cadence['time'].min() - 30, plan.cadence['time'].max() + 30)\n",
    "# ------------------------------------------------------------------------------------------------------------------- #"
   ]
  },
  {
   "cell_type": "code",
   "execution_count": null,
   "metadata": {},
   "outputs": [],
   "source": [
    "# ------------------------------------------------------------------------------------------------------------------- #\n",
    "# Review the pointing schedule, you can use this table\n",
    "# ------------------------------------------------------------------------------------------------------------------- #\n",
    "print (type(plan.pointings), len(plan.pointings))\n",
    "# print (ccds)\n",
    "plan.pointings\n",
    "# ------------------------------------------------------------------------------------------------------------------- #"
   ]
  },
  {
   "cell_type": "markdown",
   "metadata": {},
   "source": [
    "## TransientGenerator\n",
    "The transient generator combines a model and a distribution representing the transient population, and randomly draws all parameters needed to simulate the lightcurves. For well studied transient types, e.g. SNe Ia, models and generators have been predefined for easy use.\n",
    "\n",
    "Here the maximum redshift has been kept very low in order make the simulation short. In reality $z_{max} = 0.2$ would be more realistic."
   ]
  },
  {
   "cell_type": "code",
   "execution_count": null,
   "metadata": {},
   "outputs": [],
   "source": [
    "# ------------------------------------------------------------------------------------------------------------------- #\n",
    "# Define the parameters for the Transient Generator\n",
    "# ------------------------------------------------------------------------------------------------------------------- #\n",
    "tr = simsurvey.get_transient_generator(zrange=(0.0, 0.05), dec_range=(-31,90), ra_range=(0, 360),\n",
    "                                       transient='Ia', template='salt2', mjd_range=(mjd_range[0], mjd_range[1]),\n",
    "                                       sfd98_dir=sfd98_dir)\n",
    "print (type(tr))\n",
    "# ------------------------------------------------------------------------------------------------------------------- #"
   ]
  },
  {
   "cell_type": "markdown",
   "metadata": {},
   "source": [
    "## SimulSurvey\n",
    "Lastly, all parts are combined in a SimulSurvey object that will generate the lightcurves.\n",
    "(This may take about a minute or two.)"
   ]
  },
  {
   "cell_type": "code",
   "execution_count": null,
   "metadata": {},
   "outputs": [],
   "source": [
    "# ------------------------------------------------------------------------------------------------------------------- #\n",
    "# Generate The Light Curves\n",
    "# ------------------------------------------------------------------------------------------------------------------- #\n",
    "survey = simsurvey.SimulSurvey(generator=tr, plan=plan)\n",
    "lcs = survey.get_lightcurves(progress_bar=True, notebook=True)\n",
    "#, notebook=True # If you get an error because of the progress_bar, delete this line.)\n",
    "# ------------------------------------------------------------------------------------------------------------------- #"
   ]
  },
  {
   "cell_type": "code",
   "execution_count": null,
   "metadata": {},
   "outputs": [],
   "source": [
    "# ------------------------------------------------------------------------------------------------------------------- #\n",
    "# Check the Generated Light Curves\n",
    "# ------------------------------------------------------------------------------------------------------------------- #\n",
    "print (len(lcs.lcs))\n",
    "print (lcs[0])\n",
    "\n",
    "print(\"Time Taken = {0}\".format(time.time() - t1))\n",
    "# ------------------------------------------------------------------------------------------------------------------- #"
   ]
  },
  {
   "cell_type": "markdown",
   "metadata": {},
   "source": [
    "## Analysing the output\n",
    "\n",
    "The output of `get_lightcurves()` is a `LightcurveCollection` object. Lightcurves are automatically filter, so only those that would be detected in the survey are kept.\n",
    "\n",
    "You can save a the lightcurves in a pickle file and load them again later without rerunning the simulation."
   ]
  },
  {
   "cell_type": "code",
   "execution_count": null,
   "metadata": {},
   "outputs": [],
   "source": [
    "# ------------------------------------------------------------------------------------------------------------------- #\n",
    "# Save the Light Curves in a Pickle File\n",
    "# ------------------------------------------------------------------------------------------------------------------- #\n",
    "lcs.save('lcs_tutorial.pkl')\n",
    "lcs = simsurvey.LightcurveCollection(load='lcs_tutorial.pkl')\n",
    "# ------------------------------------------------------------------------------------------------------------------- #"
   ]
  },
  {
   "cell_type": "markdown",
   "metadata": {},
   "source": [
    "You can inspect the lightcurves manually. This example should return the lightcurve with the most points with S/N > 5."
   ]
  },
  {
   "cell_type": "code",
   "execution_count": null,
   "metadata": {},
   "outputs": [],
   "source": [
    "_ = sncosmo.plot_lc(lcs[2])"
   ]
  },
  {
   "cell_type": "markdown",
   "metadata": {},
   "source": [
    "The two figures below show how early the MNe are detected and at what redshifts. The simulation input parameters of transients that were not detected are also kept, so can check completeness. "
   ]
  },
  {
   "cell_type": "code",
   "execution_count": null,
   "metadata": {},
   "outputs": [],
   "source": [
    "plt.figure(figsize=(9, 7))\n",
    "plt.hist(lcs.stats['p_det'], lw=2, histtype='step', range=(-20,0), bins=20)\n",
    "plt.xlabel('Detection phase (observer-frame)', fontsize='x-large')\n",
    "_ = plt.ylabel(r'$N_{SNe}$', fontsize='x-large')"
   ]
  },
  {
   "cell_type": "code",
   "execution_count": null,
   "metadata": {},
   "outputs": [],
   "source": [
    "plt.figure(figsize=(9, 6))\n",
    "plt.hist(lcs.meta_full['z'], lw=1, histtype='step', range=(0,0.05), bins=20, label='all')\n",
    "plt.hist(lcs.meta['z'], lw=2, histtype='step', range=(0,0.05), bins=20, label='detected')\n",
    "plt.xlabel('Redshift', fontsize='x-large')\n",
    "plt.ylabel(r'$N_{SNe}$', fontsize='x-large')\n",
    "plt.xlim((0, 0.05))\n",
    "plt.legend()"
   ]
  },
  {
   "cell_type": "code",
   "execution_count": null,
   "metadata": {},
   "outputs": [],
   "source": [
    "plan = simsurvey.SurveyPlan(load_opsim=survey_file, band_dict={'g': 'ztfg', 'r': 'ztfr', 'i': 'desi'}, ccds=ccds)\n",
    "plan.pointings"
   ]
  },
  {
   "cell_type": "code",
   "execution_count": null,
   "metadata": {},
   "outputs": [],
   "source": []
  }
 ],
 "metadata": {
  "anaconda-cloud": {},
  "kernelspec": {
   "display_name": "Python 3",
   "language": "python",
   "name": "python3"
  },
  "language_info": {
   "codemirror_mode": {
    "name": "ipython",
    "version": 3
   },
   "file_extension": ".py",
   "mimetype": "text/x-python",
   "name": "python",
   "nbconvert_exporter": "python",
   "pygments_lexer": "ipython3",
   "version": "3.7.2"
  }
 },
 "nbformat": 4,
 "nbformat_minor": 1
}
