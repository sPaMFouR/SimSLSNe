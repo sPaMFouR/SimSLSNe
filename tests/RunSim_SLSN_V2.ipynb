{
 "cells": [
  {
   "cell_type": "markdown",
   "metadata": {},
   "source": [
    "## Notebook: Generating SLSN Light Curves based on ZTF Raw Data\n",
    "\n",
    "This notebook shows how to: <br />\n",
    "1) Load raw ZTF data into the `simsurvey` <br />\n",
    "2) Feed the SLSN lightcurves generated using the `Magnetar Model` to the transient generator <br />\n",
    "3) Generate the simulated SLSN light curves which can be detected by the ZTF Survey. <br />\n",
    "4) Filters the simulated light curves with cutoffs like `|b| > 10` and `sum(rmag < 19.5) >= 3`  <br />\n",
    "5) Plots the detection phase distribution and the redshift distribution of the SLSNe\n"
   ]
  },
  {
   "cell_type": "code",
   "execution_count": 1,
   "metadata": {},
   "outputs": [],
   "source": [
    "# xxxxxxxxxxxxxxxxxxxxxxxxxxxxxxxxxxxxxxxxxxxxxxxxxxxxxxxxxxxxxxxxxxxxxxxxxxxxxxxxxxxxxxxxxxxxxxxxxxxxxxxxxxxxxxxxxxx #\n",
    "# xxxxxxxxxxxxxxxxxxxxxxx-----------------Generating SLSN Light Curves----------------------xxxxxxxxxxxxxxxxxxxxxxxxx #\n",
    "# xxxxxxxxxxxxxxxxxxxxxxxxxxxxxxxxxxxxxxxxxxxxxxxxxxxxxxxxxxxxxxxxxxxxxxxxxxxxxxxxxxxxxxxxxxxxxxxxxxxxxxxxxxxxxxxxxxx #\n",
    "\n",
    "# ------------------------------------------------------------------------------------------------------------------- #\n",
    "# Import Modules\n",
    "# ------------------------------------------------------------------------------------------------------------------- #\n",
    "import os\n",
    "import time\n",
    "import pickle\n",
    "import numpy as np\n",
    "import pandas as pd\n",
    "import seaborn as sns\n",
    "import matplotlib.cm as cm\n",
    "import matplotlib.pyplot as plt\n",
    "from matplotlib.colors import Normalize\n",
    "from matplotlib.ticker import MultipleLocator\n",
    "\n",
    "import sncosmo\n",
    "import simsurvey\n",
    "from astropy.time import Time\n",
    "from astropy import units as u\n",
    "from astropy.cosmology import Planck15\n",
    "from astropy.coordinates import SkyCoord\n",
    "\n",
    "from MagnetarModel import MagnetarSource\n",
    "# ------------------------------------------------------------------------------------------------------------------- #\n",
    "\n",
    "\n",
    "# ------------------------------------------------------------------------------------------------------------------- #\n",
    "# Initialize Globals\n",
    "# ------------------------------------------------------------------------------------------------------------------- #\n",
    "gallat_cutoff = 10\n",
    "mag_band = 'ztfr'\n",
    "mag_cutoff = 19.5\n",
    "npoints = 4\n",
    "\n",
    "time_start = time.time()\n",
    "cm = cm.get_cmap('jet')\n",
    "# ------------------------------------------------------------------------------------------------------------------- #\n",
    "\n",
    "\n",
    "# ------------------------------------------------------------------------------------------------------------------- #\n",
    "# Initialize Directories\n",
    "# ------------------------------------------------------------------------------------------------------------------- #\n",
    "os.environ[\"HOME\"] = \"/data/asingh/simsurvey\"\n",
    "DIR_HOME = os.environ.get(\"HOME\")\n",
    "\n",
    "# Directory containing the data files\n",
    "DIR_DATA = \"/data/cfremling/simsurvey\"\n",
    "# Directory containing the dust map files of Schlegel, Finkbeiner & Davis (1998)\n",
    "DIR_SFD = os.path.join(DIR_HOME, \"data/sfd98\")\n",
    "\n",
    "# Enter the name of the 'ztf_sim' output file you would like to use.\n",
    "survey_file = os.path.join(DIR_DATA, \"notebooks/df_sim_stats_full.p\")\n",
    "survey_fields = os.path.join(DIR_HOME, \"data/ZTF_Fields.txt\")\n",
    "survey_ccds = os.path.join(DIR_HOME, \"data/ZTF_corners.txt\")\n",
    "# ------------------------------------------------------------------------------------------------------------------- #\n",
    "\n",
    "\n",
    "# ------------------------------------------------------------------------------------------------------------------- #\n",
    "# Load ZTF Fields, CCD Corners and Filters\n",
    "# ------------------------------------------------------------------------------------------------------------------- #\n",
    "raw_fields = np.genfromtxt(survey_fields, comments='%')\n",
    "fields = {'field_id': np.array(raw_fields[:,0], dtype=int), 'ra': raw_fields[:,1], 'dec': raw_fields[:,2]}\n",
    "fields_df = pd.DataFrame(fields)\n",
    "\n",
    "ccd_corners = np.genfromtxt(survey_ccds, skip_header=1)\n",
    "ccds = [ccd_corners[4 * k:4 * k + 4, :2] for k in range(16)]\n",
    "\n",
    "bands = {'ztfr' : 'data/ztfr_eff.txt', 'ztfg' : 'data/ztfg_eff.txt'}\n",
    "for band in bands.keys() :\n",
    "        filename = os.path.join(DIR_HOME, bands[band])\n",
    "        bpass = np.loadtxt(filename)\n",
    "        bandname = sncosmo.Bandpass(bpass[:,0], bpass[:,1], name=band)\n",
    "        sncosmo.registry.register(bandname, force=True)\n",
    "# ------------------------------------------------------------------------------------------------------------------- #"
   ]
  },
  {
   "cell_type": "markdown",
   "metadata": {},
   "source": [
    "### Load the ZTF Input Data into the Survey Plan\n",
    "1) Read the raw ZTF Input Data <br />\n",
    "2) Modify the data in order to be fed to `simsurvey` <br />\n",
    "3) Load the modified data into the `SurveyPlan"
   ]
  },
  {
   "cell_type": "code",
   "execution_count": 2,
   "metadata": {},
   "outputs": [
    {
     "name": "stdout",
     "output_type": "stream",
     "text": [
      "Survey pointings for All ZTF Programs: 5337921\n",
      "Survey pointings for MSIP Programs: 5337921\n",
      "<class 'astropy.table.table.Table'> 5337921\n"
     ]
    },
    {
     "data": {
      "text/html": [
       "<i>Table length=5337921</i>\n",
       "<table id=\"table139993501560672\" class=\"table-striped table-bordered table-condensed\">\n",
       "<thead><tr><th>time</th><th>band</th><th>zp</th><th>skynoise</th><th>RA</th><th>Dec</th><th>field</th><th>ccd</th><th>comment</th></tr></thead>\n",
       "<thead><tr><th>float64</th><th>object</th><th>float64</th><th>float64</th><th>float64</th><th>float64</th><th>int64</th><th>int64</th><th>int64</th></tr></thead>\n",
       "<tr><td>2458197.8162153</td><td>ztfr</td><td>nan</td><td>2801.495928715667</td><td>201.71129</td><td>18.95</td><td>578</td><td>0</td><td>1</td></tr>\n",
       "<tr><td>2458197.9025462996</td><td>ztfr</td><td>nan</td><td>1179.2068563255764</td><td>224.27392</td><td>47.75</td><td>759</td><td>2</td><td>1</td></tr>\n",
       "<tr><td>2458197.9160069</td><td>ztfr</td><td>nan</td><td>2058.3062636998407</td><td>235.44307</td><td>33.35</td><td>678</td><td>49</td><td>1</td></tr>\n",
       "<tr><td>2458198.8676389</td><td>ztfr</td><td>nan</td><td>1930.6786571477928</td><td>231.42857</td><td>69.35</td><td>846</td><td>3</td><td>1</td></tr>\n",
       "<tr><td>2458198.8676389</td><td>ztfr</td><td>nan</td><td>1731.8488902949207</td><td>231.42857</td><td>69.35</td><td>846</td><td>2</td><td>1</td></tr>\n",
       "<tr><td>2458198.9187153</td><td>ztfr</td><td>nan</td><td>1427.4141435819433</td><td>252.57882</td><td>18.95</td><td>585</td><td>19</td><td>1</td></tr>\n",
       "<tr><td>2458198.9187153</td><td>ztfr</td><td>nan</td><td>1349.3045835944579</td><td>252.57882</td><td>18.95</td><td>585</td><td>36</td><td>1</td></tr>\n",
       "<tr><td>2458198.9187153</td><td>ztfr</td><td>nan</td><td>1309.5135472284426</td><td>252.57882</td><td>18.95</td><td>585</td><td>6</td><td>1</td></tr>\n",
       "<tr><td>2458198.9187153</td><td>ztfr</td><td>nan</td><td>1676.9109308631948</td><td>252.57882</td><td>18.95</td><td>585</td><td>60</td><td>1</td></tr>\n",
       "<tr><td>2458198.9187153</td><td>ztfr</td><td>nan</td><td>1507.9606042700489</td><td>252.57882</td><td>18.95</td><td>585</td><td>2</td><td>1</td></tr>\n",
       "<tr><td>...</td><td>...</td><td>...</td><td>...</td><td>...</td><td>...</td><td>...</td><td>...</td><td>...</td></tr>\n",
       "<tr><td>2458795.7076272997</td><td>ztfg</td><td>nan</td><td>2378.3183991025107</td><td>37.42753</td><td>40.55</td><td>698</td><td>30</td><td>1</td></tr>\n",
       "<tr><td>2458795.7076272997</td><td>ztfg</td><td>nan</td><td>2714.625945773122</td><td>37.42753</td><td>40.55</td><td>698</td><td>2</td><td>1</td></tr>\n",
       "<tr><td>2458795.7076272997</td><td>ztfg</td><td>nan</td><td>2267.0964436254485</td><td>37.42753</td><td>40.55</td><td>698</td><td>44</td><td>1</td></tr>\n",
       "<tr><td>2458795.7076272997</td><td>ztfg</td><td>nan</td><td>2571.2836936812955</td><td>37.42753</td><td>40.55</td><td>698</td><td>50</td><td>1</td></tr>\n",
       "<tr><td>2458795.7076272997</td><td>ztfg</td><td>nan</td><td>2415.850167990356</td><td>37.42753</td><td>40.55</td><td>698</td><td>4</td><td>1</td></tr>\n",
       "<tr><td>2458795.7076272997</td><td>ztfg</td><td>nan</td><td>2620.776559147658</td><td>37.42753</td><td>40.55</td><td>698</td><td>0</td><td>1</td></tr>\n",
       "<tr><td>2458795.7076272997</td><td>ztfg</td><td>nan</td><td>2307.756567986616</td><td>37.42753</td><td>40.55</td><td>698</td><td>45</td><td>1</td></tr>\n",
       "<tr><td>2458795.7076272997</td><td>ztfg</td><td>nan</td><td>2483.304615184824</td><td>37.42753</td><td>40.55</td><td>698</td><td>9</td><td>1</td></tr>\n",
       "<tr><td>2458795.7076272997</td><td>ztfg</td><td>nan</td><td>2512.5227085514816</td><td>37.42753</td><td>40.55</td><td>698</td><td>1</td><td>1</td></tr>\n",
       "<tr><td>2458795.7076272997</td><td>ztfg</td><td>nan</td><td>2267.5140966895724</td><td>37.42753</td><td>40.55</td><td>698</td><td>55</td><td>1</td></tr>\n",
       "</table>"
      ],
      "text/plain": [
       "<Table length=5337921>\n",
       "       time         band     zp        skynoise      ... field  ccd  comment\n",
       "     float64       object float64      float64       ... int64 int64  int64 \n",
       "------------------ ------ ------- ------------------ ... ----- ----- -------\n",
       "   2458197.8162153   ztfr     nan  2801.495928715667 ...   578     0       1\n",
       "2458197.9025462996   ztfr     nan 1179.2068563255764 ...   759     2       1\n",
       "   2458197.9160069   ztfr     nan 2058.3062636998407 ...   678    49       1\n",
       "   2458198.8676389   ztfr     nan 1930.6786571477928 ...   846     3       1\n",
       "   2458198.8676389   ztfr     nan 1731.8488902949207 ...   846     2       1\n",
       "   2458198.9187153   ztfr     nan 1427.4141435819433 ...   585    19       1\n",
       "   2458198.9187153   ztfr     nan 1349.3045835944579 ...   585    36       1\n",
       "   2458198.9187153   ztfr     nan 1309.5135472284426 ...   585     6       1\n",
       "   2458198.9187153   ztfr     nan 1676.9109308631948 ...   585    60       1\n",
       "   2458198.9187153   ztfr     nan 1507.9606042700489 ...   585     2       1\n",
       "               ...    ...     ...                ... ...   ...   ...     ...\n",
       "2458795.7076272997   ztfg     nan 2378.3183991025107 ...   698    30       1\n",
       "2458795.7076272997   ztfg     nan  2714.625945773122 ...   698     2       1\n",
       "2458795.7076272997   ztfg     nan 2267.0964436254485 ...   698    44       1\n",
       "2458795.7076272997   ztfg     nan 2571.2836936812955 ...   698    50       1\n",
       "2458795.7076272997   ztfg     nan  2415.850167990356 ...   698     4       1\n",
       "2458795.7076272997   ztfg     nan  2620.776559147658 ...   698     0       1\n",
       "2458795.7076272997   ztfg     nan  2307.756567986616 ...   698    45       1\n",
       "2458795.7076272997   ztfg     nan  2483.304615184824 ...   698     9       1\n",
       "2458795.7076272997   ztfg     nan 2512.5227085514816 ...   698     1       1\n",
       "2458795.7076272997   ztfg     nan 2267.5140966895724 ...   698    55       1"
      ]
     },
     "execution_count": 2,
     "metadata": {},
     "output_type": "execute_result"
    }
   ],
   "source": [
    "# ------------------------------------------------------------------------------------------------------------------- #\n",
    "# Read the Raw ZTF Input Data\n",
    "# ------------------------------------------------------------------------------------------------------------------- #\n",
    "\n",
    "def mod_rawdata(inp_df):\n",
    "    \"\"\"\n",
    "    Modify the input Pandas DataFrame to be passed to the SimSurvey.\n",
    "    Args:\n",
    "    inp_df   : Input DataFrame to be modified\n",
    "    Returns:\n",
    "    out_df   : Output DataFrame with relevant modifications\n",
    "    \"\"\"\n",
    "    band_dict = {1: 'ztfg', 2: 'ztfr', 3: 'desi'}\n",
    "    survey_start = Time(\"2018-03-17 00:00:00.000\").jd\n",
    "    survey_end = Time(\"2019-12-31 00:00:00.000\").jd\n",
    "    \n",
    "    out_df = inp_df.copy()\n",
    "    out_df['filterid'] = out_df['filterid'].apply(lambda band: band_dict[band])\n",
    "    out_df['skynoise'] = [(10 ** (-0.4 * (limmag - 30))) / 5. for limmag in out_df['limMag']]\n",
    "    out_df = out_df[~out_df['fieldid'].isin([880, 881])]                           # For using only main grid data\n",
    "    out_df = out_df[out_df['jd'] > survey_start][out_df['jd'] < survey_end]\n",
    "\n",
    "    print (\"Survey pointings for All ZTF Programs: {0}\".format(len(out_df)))\n",
    "    print (\"Survey pointings for MSIP Programs: {0}\".format(len(out_df[out_df['progid'] == 1])))\n",
    "\n",
    "    return out_df\n",
    "\n",
    "\n",
    "raw_df = pd.read_pickle(os.path.join(DIR_DATA, survey_file))\n",
    "raw_df = mod_rawdata(raw_df)\n",
    "# ------------------------------------------------------------------------------------------------------------------- #\n",
    "\n",
    "\n",
    "# ------------------------------------------------------------------------------------------------------------------- #\n",
    "# Load the Modified ZTF data into the Survey Plan\n",
    "# ------------------------------------------------------------------------------------------------------------------- #\n",
    "plan = simsurvey.SurveyPlan(time=raw_df['jd'], band=raw_df['filterid'], obs_field=raw_df['fieldid'], \n",
    "                            skynoise=raw_df['skynoise'], obs_ccd=raw_df['chid'], comment=raw_df['progid'],\n",
    "                            ccds=ccds, fields={k: v for k, v in fields.items()\n",
    "                                                if k in ['ra', 'dec', 'field_id', 'width', 'height']})\n",
    "\n",
    "mjd_range = (plan.cadence['time'].min() - 30, plan.cadence['time'].max() + 30)\n",
    "# ------------------------------------------------------------------------------------------------------------------- #\n",
    "\n",
    "\n",
    "# ------------------------------------------------------------------------------------------------------------------- #\n",
    "# Review the pointing schedule, you can use this table\n",
    "# ------------------------------------------------------------------------------------------------------------------- #\n",
    "print (type(plan.pointings), len(plan.pointings))\n",
    "plan.pointings\n",
    "# ------------------------------------------------------------------------------------------------------------------- #"
   ]
  },
  {
   "cell_type": "markdown",
   "metadata": {},
   "source": [
    "### Input to the Transient Generator\n",
    "1) It combines a model and a distribution representing the transient population, and randomly draws all the parameters needed to simulate the lightcurves. <br />\n",
    "2) The maximum redshift has been kept as 0.4, beyond which detectability of SLSN is most likely improbable from ZTF."
   ]
  },
  {
   "cell_type": "code",
   "execution_count": 3,
   "metadata": {
    "scrolled": false
   },
   "outputs": [
    {
     "name": "stdout",
     "output_type": "stream",
     "text": [
      "(203,) (823,) (203, 823)\n"
     ]
    }
   ],
   "source": [
    "# ------------------------------------------------------------------------------------------------------------------- #\n",
    "# Input the Observed Photometric Template to the Transient Generator\n",
    "# ------------------------------------------------------------------------------------------------------------------- #\n",
    "\n",
    "dict_defaults = {'type': 'SLSN', 'template': 1, 'z': (0.05, 0.4), 'data_file': survey_file, 'rate': 2.5e-7}\n",
    "dict_bands = {'g': [4087, 4722.7, 5522], 'r': [5600, 6339.6, 7317], 'i': [7317, 7886.1, 8884]}\n",
    "\n",
    "template_file = os.path.join(DIR_HOME, \"data/PTF12dam.dat\")\n",
    "\n",
    "\n",
    "def make_source(input_lc):\n",
    "    \"\"\"\n",
    "    Make a TimeSeriesSource of the observed photometric template assuming a certain SED shape.\n",
    "    Args:\n",
    "        input_lc   : Input light curve template to be used as input to the simulation\n",
    "    Returns:\n",
    "        model      : A sncosmo.Source that specifies a spectral timeseries of the template\n",
    "    \"\"\"\n",
    "    def get_waverange(band):\n",
    "        limits = dict_bands[band]\n",
    "        if band == 'g':\n",
    "            waverange = np.arange(limits[0] - 1500, limits[-1], 10)\n",
    "        elif band == 'r':\n",
    "            waverange = np.arange(limits[0], limits[-1], 10)\n",
    "        elif band == 'i':\n",
    "            waverange = np.arange(limits[0], limits[-1] + 2000, 10)\n",
    "        return waverange\n",
    "    \n",
    "    lc = pd.read_csv(input_lc, sep='\\s+', comment='#')\n",
    "    lc[['flux_g', 'flux_r', 'flux_i']] = lc[['M_g', 'M_r', 'M_i']].apply(lambda x: 10 ** (-0.4 * (x)))\n",
    "    \n",
    "    phase = lc['Phase'].values\n",
    "    masterwave = np.array([val for band in dict_bands.keys() for val in get_waverange(band)])\n",
    "    \n",
    "    masterflux = []\n",
    "    for epoch in phase:\n",
    "        temp = lc.loc[lc['Phase'] == epoch]\n",
    "        tempflux = []\n",
    "        for band, limits in dict_bands.items():\n",
    "            wave = get_waverange(band)\n",
    "            tempflux.extend([temp['flux_' + band].values[0]] * len(wave))\n",
    "        masterflux.append(tempflux)\n",
    "\n",
    "    masterflux = np.array(masterflux)\n",
    "    print (phase.shape, masterwave.shape, masterflux.shape)\n",
    "\n",
    "    dust = sncosmo.CCM89Dust()\n",
    "    source = sncosmo.TimeSeriesSource(name='SLSN', phase=phase, wave=masterwave, flux=masterflux, zero_before=True)\n",
    "    model = sncosmo.Model(source=source, effects=[dust], effect_names=['host'], effect_frames=['rest'])\n",
    "    \n",
    "    return model\n",
    "\n",
    "model = make_source(template_file)\n",
    "# OUTPUT: model.param_names = ['z', 't0', 'amplitude', 'hostebv', 'hostr_v', 'mwebv', 'mwr_v']\n",
    "\n",
    "def random_parameters(redshifts, r_v=3.1, mag=(-21, 2), ebv_rate=0.11, cosmo=Planck15, **kwargs):\n",
    "    out = {}\n",
    "    #     out = {'distance': np.array(cosmo.luminosity_distance(redshifts).value)}  # To fix the Amplitude\n",
    "    amp = []\n",
    "    \n",
    "    for z in redshifts:\n",
    "        mabs = np.random.normal(mag[0], mag[1])\n",
    "        model.set(z=z)\n",
    "        model.set_source_peakabsmag(absmag=mabs, band='ztfr', magsys='ab', cosmo=cosmo)\n",
    "        amp.append(model.get('amplitude'))\n",
    "      \n",
    "    out['amplitude'] = np.array(amp)\n",
    "\n",
    "    return out\n",
    "\n",
    "tr = simsurvey.get_transient_generator(zrange=dict_defaults['z'],\n",
    "                                       ratefunc=lambda z: dict_defaults['rate'],\n",
    "                                       dec_range=(-31, 90),\n",
    "                                       mjd_range=(mjd_range[0], mjd_range[1]),\n",
    "                                       sfd98_dir=DIR_SFD,\n",
    "                                       transientprop={'lcmodel': model, \n",
    "                                                      'lcsimul_func': random_parameters,\n",
    "                                                      'lcsimul_prop': {'mag': (-21, 2)}})\n",
    "# ------------------------------------------------------------------------------------------------------------------- #\n"
   ]
  },
  {
   "cell_type": "markdown",
   "metadata": {},
   "source": [
    "### Simulate Survey\n",
    "Generate light curves using the transient generator and the survey plan as inputs"
   ]
  },
  {
   "cell_type": "code",
   "execution_count": 4,
   "metadata": {
    "scrolled": false
   },
   "outputs": [
    {
     "name": "stdout",
     "output_type": "stream",
     "text": [
      "Determining field IDs for all objects\n"
     ]
    },
    {
     "data": {
      "application/vnd.jupyter.widget-view+json": {
       "model_id": "d5b4902108ac417aa63ca9cc9f23edd5",
       "version_major": 2,
       "version_minor": 0
      },
      "text/plain": [
       "FloatProgress(value=0.0)"
      ]
     },
     "metadata": {},
     "output_type": "display_data"
    },
    {
     "name": "stdout",
     "output_type": "stream",
     "text": [
      "\n",
      "Generating lightcurves\n"
     ]
    },
    {
     "data": {
      "application/vnd.jupyter.widget-view+json": {
       "model_id": "aae7c32e9efe4d50a0f53b7a35898ff5",
       "version_major": 2,
       "version_minor": 0
      },
      "text/plain": [
       "FloatProgress(value=0.0)"
      ]
     },
     "metadata": {},
     "output_type": "display_data"
    },
    {
     "name": "stdout",
     "output_type": "stream",
     "text": [
      "\n"
     ]
    }
   ],
   "source": [
    "# ------------------------------------------------------------------------------------------------------------------- #\n",
    "# Generate The Light Curves\n",
    "# ------------------------------------------------------------------------------------------------------------------- #\n",
    "survey = simsurvey.SimulSurvey(generator=tr, plan=plan)\n",
    "lcs = survey.get_lightcurves(progress_bar=True, notebook=True)\n",
    "#, notebook=True # If you get an error because of the progress_bar, delete this line.)\n",
    "# ------------------------------------------------------------------------------------------------------------------- #"
   ]
  },
  {
   "cell_type": "markdown",
   "metadata": {},
   "source": [
    "### Check the Generated Light Curves and Save Them"
   ]
  },
  {
   "cell_type": "code",
   "execution_count": 5,
   "metadata": {},
   "outputs": [
    {
     "name": "stdout",
     "output_type": "stream",
     "text": [
      "1179\n",
      "       time        band         flux        ... field ccd comment\n",
      "------------------ ---- ------------------- ... ----- --- -------\n",
      "   2458677.9740856 ztfg -1003.0888197539167 ...   741   6       1\n",
      "2458680.9295832994 ztfr   357.8893337824652 ...   741   6       1\n",
      "2458680.9885185002 ztfg  17047.123021561503 ...   741   6       1\n",
      "    2458683.950706 ztfr   790.7395243757269 ...   741   6       1\n",
      "   2458683.9768634 ztfg   -600.125335471327 ...   741   6       1\n",
      "   2458686.9290972 ztfr   4486.025018450583 ...   741   6       1\n",
      "   2458686.9857639 ztfg   3652.041418124635 ...   741   6       1\n",
      "2458690.9306018995 ztfr   916.6199277254873 ...   741   6       1\n",
      "   2458690.9667014 ztfg  2219.2385755770383 ...   741   6       1\n",
      "2458693.9415856004 ztfg  1956.8406821174922 ...   741   6       1\n",
      "               ...  ...                 ... ...   ... ...     ...\n",
      "   2458778.8271528 ztfr   6039.303453299457 ...   741   6       1\n",
      "   2458781.9087037 ztfg   2049.578046917935 ...   741   6       1\n",
      "   2458784.9037616 ztfg   4487.968697129214 ...   741   6       1\n",
      "2458789.7790508997 ztfr   5811.571711661154 ...   741   6       1\n",
      "2458790.8303008997 ztfg   426.5144104111548 ...   741   6       1\n",
      "    2458790.858125 ztfr   4945.884638602432 ...   741   6       1\n",
      "2458791.7916667005 ztfg  1984.7142577432678 ...   741   6       1\n",
      "2458791.8040162004 ztfg   2389.394192258802 ...   741   6       1\n",
      "2458792.8714814996 ztfr  7838.3203492699195 ...   741   6       1\n",
      "   2458794.7793287 ztfg  3873.3202148792893 ...   741   6       1\n",
      "   2458794.8289931 ztfr   1142.567513053872 ...   741   6       1\n",
      "Length = 67 rows\n",
      "Time Taken to Run the Simulation = 458.86 seconds\n"
     ]
    }
   ],
   "source": [
    "# ------------------------------------------------------------------------------------------------------------------- #\n",
    "# Check the Generated Light Curves and Save Them\n",
    "# ------------------------------------------------------------------------------------------------------------------- #\n",
    "print (len(lcs.lcs))\n",
    "print (lcs[0])\n",
    "lcs.save('LCS_SLSN_MasterV2.pkl')\n",
    "\n",
    "print(\"Time Taken to Run the Simulation = {0:.2f} seconds\".format(time.time() - time_start))\n",
    "# ------------------------------------------------------------------------------------------------------------------- #"
   ]
  },
  {
   "cell_type": "markdown",
   "metadata": {},
   "source": [
    "### Filtering the Simulated Light Curve Data"
   ]
  },
  {
   "cell_type": "code",
   "execution_count": 6,
   "metadata": {
    "scrolled": false
   },
   "outputs": [
    {
     "name": "stdout",
     "output_type": "stream",
     "text": [
      "1179\n"
     ]
    },
    {
     "name": "stderr",
     "output_type": "stream",
     "text": [
      "/data/lyan/anaconda3/lib/python3.7/site-packages/ipykernel_launcher.py:17: RuntimeWarning: invalid value encountered in log10\n"
     ]
    },
    {
     "name": "stdout",
     "output_type": "stream",
     "text": [
      "712\n"
     ]
    }
   ],
   "source": [
    "# ------------------------------------------------------------------------------------------------------------------- #\n",
    "# Read the Light Curves from the Pickle File\n",
    "# Filter the Simulated Light Curves Data \n",
    "# ------------------------------------------------------------------------------------------------------------------- #\n",
    "\n",
    "def filter_lcdata(inp_data):\n",
    "    \"\"\"\n",
    "    Filter the Simulated Light Curves data from simsurvey using \n",
    "    Args:\n",
    "    data  : Simulated light curves data\n",
    "    Returns:\n",
    "    data  : Filtered light curves data with necessary requirements\n",
    "    \"\"\"\n",
    "    drop_indices = []\n",
    "    for lc in range(len(inp_data['lcs'])):\n",
    "        lc_df = pd.DataFrame(data=inp_data['lcs'][lc], columns=inp_data['lcs'][0].dtype.names)\n",
    "        lc_df['mag'] = -2.5 * np.log10(lc_df['flux']) + lc_df['zp']\n",
    "\n",
    "        # Check for LCs that adhere to the Apparent Magnitude cutoff\n",
    "        # Check whether there are atleast 4 detection above the cutoff\n",
    "        # Check whether those detections are spaced by atleast 12 hrs (0.5 d)\n",
    "        temp_df = lc_df.loc[(lc_df['band'] == mag_band) & (lc_df['mag'] <= mag_cutoff)]\n",
    "\n",
    "        if temp_df.shape[0] < npoints:\n",
    "            drop_indices.append(lc)\n",
    "            continue\n",
    "        else:\n",
    "            time_diff = np.diff(temp_df['time'].values)\n",
    "            points_diff = len([val for val in time_diff if abs(val) >= 0.5])\n",
    "            if points_diff < npoints:\n",
    "                drop_indices.append(lc)\n",
    "                continue\n",
    "#             else:\n",
    "#                 from scipy.interpolate import UnivariateSpline, InterpolatedUnivariateSpline\n",
    "#                 lc_df['time'] -= lc_df['time'].min()\n",
    "#                 fit = UnivariateSpline(lc_df['time'], lc_df['flux'], w=lc_df['fluxerr'])\n",
    "#                 arr = np.arange(lc_df['time'].min(), lc_df['time'].max(), 1)\n",
    "                \n",
    "#                 plt.figure(figsize=(9, 9))\n",
    "#                 plt.scatter(lc_df['time'], lc_df['flux'], marker='*')\n",
    "#                 plt.plot(arr, fit(arr), ls='--')\n",
    "#                 plt.ylim(-10000, 10020)\n",
    "#                 plt.show()\n",
    "\n",
    "        # Check for LCs that do not adhere to Galactic Latitude cutoff\n",
    "        ra, dec = inp_data['meta']['ra'][lc], inp_data['meta']['dec'][lc]\n",
    "        coord = SkyCoord(ra=ra * u.degree, dec=dec * u.degree, frame='icrs')\n",
    "        if abs(coord.galactic.b.degree) < gallat_cutoff:\n",
    "            drop_indices.append(lc)\n",
    "            \n",
    "    out_data = inp_data.copy()\n",
    "    for val in sorted(drop_indices, reverse=True):\n",
    "        del(out_data['lcs'][val])\n",
    "    for key in out_data['meta'].keys():\n",
    "        out_data['meta'][key] = np.delete(out_data['meta'][key], drop_indices, 0)\n",
    "\n",
    "    return out_data\n",
    "\n",
    "data = pickle.load(open('LCS_SLSN_MasterV2.pkl', 'rb'))\n",
    "lcs_raw = simsurvey.LightcurveCollection(load='LCS_SLSN_MasterV2.pkl')\n",
    "print (len(lcs_raw.lcs))\n",
    "\n",
    "data = filter_lcdata(data)\n",
    "pickle.dump(filtered_data, open('LCS_SLSN_FilteredV2.pkl', 'wb'))\n",
    "lcs = simsurvey.LightcurveCollection(load='LCS_SLSN_FilteredV2.pkl')\n",
    "print (len(lcs.lcs))\n",
    "# ------------------------------------------------------------------------------------------------------------------- #\n"
   ]
  },
  {
   "cell_type": "markdown",
   "metadata": {},
   "source": [
    "You can inspect the lightcurves manually. This example should return the lightcurve with the most points with S/N > 5."
   ]
  },
  {
   "cell_type": "code",
   "execution_count": 7,
   "metadata": {},
   "outputs": [],
   "source": [
    "# result, fitted_model = sncosmo.fit_lc(lcs[index], model ,vparam_names=['P', 'B', 'M_ej', 'v_ej'])\n",
    "# sncosmo.plot_lc(data, model=fitted_model, errors=result.errors)\n",
    "# _ = sncosmo.plot_lc(lcs[10], xfigsize=9, ysfigsize=9, model=model,\n",
    "#                     show_model_params=True)"
   ]
  },
  {
   "cell_type": "code",
   "execution_count": 8,
   "metadata": {
    "scrolled": false
   },
   "outputs": [],
   "source": [
    "# for i in range(len(lcs.lcs[0:100])):\n",
    "#     _ = sncosmo.plot_lc(lcs[i])"
   ]
  },
  {
   "cell_type": "markdown",
   "metadata": {},
   "source": [
    "### Detection Phase Distribution"
   ]
  },
  {
   "cell_type": "code",
   "execution_count": 9,
   "metadata": {},
   "outputs": [
    {
     "data": {
      "image/png": "[encoded data removed]",
      "text/plain": [
       "<Figure size 864x648 with 1 Axes>"
      ]
     },
     "metadata": {
      "needs_background": "light"
     },
     "output_type": "display_data"
    }
   ],
   "source": [
    "fig1 = plt.figure(figsize=(12, 9))\n",
    "ax1 = fig1.add_subplot(111)\n",
    "\n",
    "heights, bins = np.histogram(lcs.stats['p_det'], range=(-110, 225), bins=67)\n",
    "centers = (bins[:-1] + bins[1:]) / 2\n",
    "\n",
    "ax1.bar(centers, heights, width=3, edgecolor='k', color=sns.color_palette('rocket', int(len(bins) * 1.2)))\n",
    "# ax1.hist(lcs.stats['p_det'], histtype='bar', rwidth=0.75, color='dimgrey', range=(-10, 120), bins=32)\n",
    "\n",
    "ax1.set_xlim(-115, 235)\n",
    "ax1.grid(True, which='major', ls='--', lw=1)\n",
    "ax1.xaxis.set_ticks_position('both')\n",
    "ax1.yaxis.set_ticks_position('both')\n",
    "ax1.yaxis.set_major_locator(MultipleLocator(50))\n",
    "ax1.yaxis.set_minor_locator(MultipleLocator(5))\n",
    "ax1.xaxis.set_major_locator(MultipleLocator(40))\n",
    "ax1.xaxis.set_minor_locator(MultipleLocator(4))\n",
    "ax1.tick_params(axis='both', which='major', direction='in', width=1.6, length=9, labelsize=16)\n",
    "ax1.tick_params(axis='both', which='minor', direction='in', width=1.0, length=5, labelsize=16)\n",
    "\n",
    "ax1.set_xlabel('Detection Phase [Days in Observer Frame]', fontsize=18)\n",
    "ax1.set_ylabel('Number of SNe', fontsize=18)\n",
    "\n",
    "fig1.savefig('PLOT_SLSNDetectionPhaseDistribution.pdf', format='pdf', dpi=2000, bbox_inches='tight')\n",
    "plt.show()\n",
    "plt.close(fig1)"
   ]
  },
  {
   "cell_type": "code",
   "execution_count": 10,
   "metadata": {},
   "outputs": [
    {
     "data": {
      "image/png": "[encoded data removed]",
      "text/plain": [
       "<Figure size 864x720 with 1 Axes>"
      ]
     },
     "metadata": {
      "needs_background": "light"
     },
     "output_type": "display_data"
    }
   ],
   "source": [
    "fig2 = plt.figure(figsize=(12, 10))\n",
    "ax2 = fig2.add_subplot(111)\n",
    "\n",
    "zhsfull, zbinsfull = np.histogram(lcs.meta_full['z'], range=(0, 0.4), bins=20)\n",
    "zcentersfull = (zbinsfull[:-1] + zbinsfull[1:]) / 2\n",
    "zhs, zbins = np.histogram(lcs.meta['z'], range=(0, 0.4), bins=20)\n",
    "zcenters = (zbins[:-1] + zbins[1:]) / 2\n",
    "\n",
    "ax2.bar(zcentersfull - 0.003, zhsfull, width=0.006, alpha=0.9, edgecolor='k', color='orange', label='All')\n",
    "ax2.bar(zcenters + 0.003, zhs, width=0.006, alpha=0.7, edgecolor='k', color='navy', label='Detected')\n",
    "\n",
    "# ax2.hist(lcs.meta_full['z'], lw=2, ls='-', histtype='step', color='orangered', range=(0,0.05), bins=25, label='All')\n",
    "# ax2.hist(lcs.meta['z'], lw=2, ls='-', histtype='step', color='navy', range=(0, 0.05), bins=25, label='Detected')\n",
    "\n",
    "ax2.set_ylim(0, 410)\n",
    "ax2.legend(fontsize=16, loc=1)\n",
    "ax2.grid(True, which='major', ls='--', lw=1)\n",
    "ax2.xaxis.set_ticks_position('both')\n",
    "ax2.yaxis.set_ticks_position('both')\n",
    "ax2.yaxis.set_major_locator(MultipleLocator(50))\n",
    "ax2.yaxis.set_minor_locator(MultipleLocator(5))\n",
    "ax2.xaxis.set_major_locator(MultipleLocator(0.1))\n",
    "ax2.xaxis.set_minor_locator(MultipleLocator(0.01))\n",
    "ax2.tick_params(axis='both', which='major', direction='in', width=1.6, length=9, labelsize=16)\n",
    "ax2.tick_params(axis='both', which='minor', direction='in', width=1.0, length=5, labelsize=16)\n",
    "\n",
    "ax2.set_xticklabels(['' if float(label) < 0 else round(label, 1) for label in ax2.get_xticks()])\n",
    "\n",
    "ax2.set_xlabel('Redshift [z]', fontsize=18)\n",
    "ax2.set_ylabel('Number of SNe', fontsize=18)\n",
    "ax2.set_title('SLSN Redshift Distribution [z <= 0.4]', fontsize=18)\n",
    "\n",
    "# axins = ax2.inset_axes([0.07, 0.43, 0.53, 0.55])\n",
    "# # axins.bar(zcentersfull - 0.005, zhsfull, width=0.01, alpha=0.9, color='orangered', label='All')\n",
    "# axins.bar(zcenters + 0.005, zhs, width=0.01, alpha=0.9, edgecolor='k', color='navy', label='Detected')\n",
    "\n",
    "# axins.set_xlim(-0.05, 0.45)\n",
    "# axins.set_ylim(0, 38)\n",
    "\n",
    "# axins.grid(True, which='major', ls='--', lw=1)\n",
    "# axins.xaxis.set_ticks_position('both')\n",
    "# axins.yaxis.set_ticks_position('both')\n",
    "# axins.yaxis.set_major_locator(MultipleLocator(10))\n",
    "# axins.yaxis.set_minor_locator(MultipleLocator(1))\n",
    "# axins.xaxis.set_major_locator(MultipleLocator(0.1))\n",
    "# axins.xaxis.set_minor_locator(MultipleLocator(0.01))\n",
    "# axins.tick_params(axis='both', which='major', direction='in', width=1.6, length=9, labelsize=16)\n",
    "# axins.tick_params(axis='both', which='minor', direction='in', width=1.0, length=5, labelsize=16)\n",
    "# ax2.indicate_inset_zoom(axins)\n",
    "\n",
    "fig2.savefig('PLOT_SLSNRedshiftDistribution.pdf', format='pdf', dpi=2000, bbox_inches='tight')\n",
    "plt.show()\n",
    "plt.close(fig2)\n"
   ]
  },
  {
   "cell_type": "code",
   "execution_count": null,
   "metadata": {},
   "outputs": [],
   "source": []
  },
  {
   "cell_type": "code",
   "execution_count": 11,
   "metadata": {},
   "outputs": [],
   "source": [
    "# # ------------------------------------------------------------------------------------------------------------------- #\n",
    "# # Test Code To Find The Faulty ZTF Data\n",
    "# # ------------------------------------------------------------------------------------------------------------------- #\n",
    "# raw_df = pd.read_pickle(os.path.join(DIR_DATA, survey_file))\n",
    "# idx_range = raw_df.index.values\n",
    "# val_range = np.array_split(idx_range, 1000)\n",
    "\n",
    "# for val in val_range:\n",
    "#     try:\n",
    "#         raw_df = mod_df(pd.read_pickle(os.path.join(DIR_DATA, survey_file)).iloc[val])\n",
    "#         plan = simsurvey.SurveyPlan(time=raw_df['jd'], band=raw_df['filterid'], obs_field=raw_df['fieldid'], \n",
    "#                             skynoise=raw_df['skynoise'], obs_ccd=raw_df['chid'], ccds=ccds, comment=raw_df['progid'], \n",
    "#                             fields={k: v for k, v in fields.items() if k in ['ra', 'dec', 'field_id']})\n",
    "#     except IndexError:\n",
    "#         print (val)\n",
    "#         import sys\n",
    "#         sys.exit(1)\n",
    "#     else:\n",
    "#         continue\n",
    "    \n",
    "# # ------------------------------------------------------------------------------------------------------------------- #"
   ]
  },
  {
   "cell_type": "code",
   "execution_count": null,
   "metadata": {},
   "outputs": [],
   "source": []
  },
  {
   "cell_type": "code",
   "execution_count": null,
   "metadata": {},
   "outputs": [],
   "source": []
  },
  {
   "cell_type": "code",
   "execution_count": null,
   "metadata": {},
   "outputs": [],
   "source": []
  },
  {
   "cell_type": "code",
   "execution_count": null,
   "metadata": {},
   "outputs": [],
   "source": []
  }
 ],
 "metadata": {
  "anaconda-cloud": {},
  "kernelspec": {
   "display_name": "Python 3",
   "language": "python",
   "name": "python3"
  },
  "language_info": {
   "codemirror_mode": {
    "name": "ipython",
    "version": 3
   },
   "file_extension": ".py",
   "mimetype": "text/x-python",
   "name": "python",
   "nbconvert_exporter": "python",
   "pygments_lexer": "ipython3",
   "version": "3.7.2"
  }
 },
 "nbformat": 4,
 "nbformat_minor": 1
}
