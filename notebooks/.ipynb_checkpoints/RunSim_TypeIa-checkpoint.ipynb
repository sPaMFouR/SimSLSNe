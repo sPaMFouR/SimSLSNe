{
 "cells": [
  {
   "cell_type": "markdown",
   "metadata": {},
   "source": [
    "# Tutorial: Generating Type Ia SN lightcurves based on ztf_sim output \n",
    "\n",
    "This notebook shows how to load the output for Eric's survey simulator `ztf_sim` and generate SN Ia lightcurves using the SALT2 template. (Check out the other notebooks for examples how to simulate other transients.)\n",
    "\n",
    "*Note:* You need to download Eric's newest sample output [here](https://drive.google.com/file/d/1sB6r21ALG7ZKetvE734JS-UpLa3iwWSz/view). The link was also included in Eric's email, so you will likely only need to change the path below.\n",
    "\n",
    "Furthermore you'll require the dust map from Schlegel, Finkbeiner & Davis (1998) for full functionality. It can be found [here](https://github.com/kbarbary/sfddata/archive/master.tar.gz)."
   ]
  },
  {
   "cell_type": "code",
   "execution_count": 1,
   "metadata": {},
   "outputs": [],
   "source": [
    "# xxxxxxxxxxxxxxxxxxxxxxxxxxxxxxxxxxxxxxxxxxxxxxxxxxxxxxxxxxxxxxxxxxxxxxxxxxxxxxxxxxxxxxxxxxxxxxxxxxxxxxxxxxxxxxxxxxx #\n",
    "# xxxxxxxxxxxxxxxxxxxxxxx--------------Generating Type Ia Light Curves----------------------xxxxxxxxxxxxxxxxxxxxxxxxx #\n",
    "# xxxxxxxxxxxxxxxxxxxxxxxxxxxxxxxxxxxxxxxxxxxxxxxxxxxxxxxxxxxxxxxxxxxxxxxxxxxxxxxxxxxxxxxxxxxxxxxxxxxxxxxxxxxxxxxxxxx #\n",
    "\n",
    "# ------------------------------------------------------------------------------------------------------------------- #\n",
    "# Import Modules\n",
    "# ------------------------------------------------------------------------------------------------------------------- #\n",
    "import os\n",
    "import time\n",
    "import numpy as np\n",
    "import pandas as pd\n",
    "import seaborn as sns\n",
    "import matplotlib.cm as cm\n",
    "import matplotlib.pyplot as plt\n",
    "from matplotlib.colors import Normalize\n",
    "from matplotlib.ticker import MultipleLocator\n",
    "\n",
    "t1 = time.time()\n",
    "cm = cm.get_cmap('jet')\n",
    "\n",
    "import sncosmo\n",
    "import simsurvey\n",
    "from astropy.time import Time\n",
    "# ------------------------------------------------------------------------------------------------------------------- #\n",
    "\n",
    "\n",
    "# ------------------------------------------------------------------------------------------------------------------- #\n",
    "# Initialize Directories\n",
    "# ------------------------------------------------------------------------------------------------------------------- #\n",
    "os.environ[\"HOME\"] = \"/data/asingh/simsurvey\"\n",
    "DIR_HOME = os.environ.get(\"HOME\")\n",
    "\n",
    "# Directory containing the data files\n",
    "DIR_DATA = \"/data/cfremling/simsurvey\"\n",
    "# Directory containing the dust map files of Schlegel, Finkbeiner & Davis (1998)\n",
    "DIR_SFD = os.path.join(DIR_HOME, \"data/sfd98\")\n",
    "\n",
    "# Enter the name of the 'ztf_sim' output file you would like to use.\n",
    "survey_file = os.path.join(DIR_DATA, \"notebooks/df_sim_stats_full.p\")\n",
    "survey_fields = os.path.join(DIR_HOME, \"data/ZTF_Fields.txt\")\n",
    "survey_ccds = os.path.join(DIR_HOME, \"data/ZTF_corners.txt\")\n",
    "# ------------------------------------------------------------------------------------------------------------------- #\n",
    "\n",
    "\n",
    "# ------------------------------------------------------------------------------------------------------------------- #\n",
    "# Load ZTF Fields, CCD Corners and Filters\n",
    "# ------------------------------------------------------------------------------------------------------------------- #\n",
    "raw_fields = np.genfromtxt(survey_fields, comments='%')\n",
    "fields = {'field_id': np.array(raw_fields[:,0], dtype=int), 'ra': raw_fields[:,1], 'dec': raw_fields[:,2]}\n",
    "\n",
    "ccd_corners = np.genfromtxt(survey_ccds, skip_header=1)\n",
    "ccds = [ccd_corners[4 * k:4 * k + 4, :2] for k in range(16)]\n",
    "\n",
    "bands = {'ztfr' : 'data/ztfr_eff.txt', 'ztfg' : 'data/ztfg_eff.txt'}\n",
    "for band in bands.keys() :\n",
    "        filename = os.path.join(DIR_HOME, bands[band])\n",
    "        bpass = np.loadtxt(filename)\n",
    "        bandname = sncosmo.Bandpass(bpass[:,0], bpass[:,1], name=band)\n",
    "        sncosmo.registry.register(bandname)\n",
    "# ------------------------------------------------------------------------------------------------------------------- #"
   ]
  },
  {
   "cell_type": "code",
   "execution_count": 2,
   "metadata": {},
   "outputs": [],
   "source": [
    "# ------------------------------------------------------------------------------------------------------------------- #\n",
    "# Function for Modifying ZTF Input Data [In order to be read by SimSurvey]\n",
    "# ------------------------------------------------------------------------------------------------------------------- #\n",
    "\n",
    "def mod_df(inp_df):\n",
    "    \"\"\"\n",
    "    Modify the input Pandas DataFrame to be passed to the SimSurvey.\n",
    "    Args:\n",
    "    inp_df   : Input DataFrame to be modified\n",
    "    Returns:\n",
    "    out_df   : Output DataFrame with relevant modifications\n",
    "    \"\"\"\n",
    "    band_dict = {1: 'ztfg', 2: 'ztfr', 3: 'desi'}\n",
    "    survey_start = Time(\"2018-03-17 00:00:00.000\").jd\n",
    "    survey_end = Time(\"2019-12-31 00:00:00.000\").jd\n",
    "    \n",
    "    out_df = inp_df.copy()\n",
    "    out_df['filterid'] = out_df['filterid'].apply(lambda band: band_dict[band])\n",
    "    out_df['skynoise'] = [(10 ** (-0.4 * (limmag - 30))) / 5. for limmag in out_df['limMag']]\n",
    "    out_df = out_df[~out_df['fieldid'].isin([880, 881])]                           # For using only main grid data\n",
    "    out_df = out_df[out_df['jd'] > survey_start][out_df['jd'] < survey_end]\n",
    "\n",
    "    print (\"Survey pointings for All ZTF Programs: {0}\".format(len(out_df)))\n",
    "    print (\"Survey pointings for MSIP Programs: {0}\".format(len(out_df[out_df['progid'] == 1])))\n",
    "\n",
    "    return out_df\n",
    "\n",
    "# ------------------------------------------------------------------------------------------------------------------- #\n"
   ]
  },
  {
   "cell_type": "code",
   "execution_count": 3,
   "metadata": {},
   "outputs": [
    {
     "name": "stdout",
     "output_type": "stream",
     "text": [
      "Survey pointings for All ZTF Programs: 5337921\n",
      "Survey pointings for MSIP Programs: 5337921\n"
     ]
    }
   ],
   "source": [
    "# ------------------------------------------------------------------------------------------------------------------- #\n",
    "# Read the Raw ZTF Input Data\n",
    "# ------------------------------------------------------------------------------------------------------------------- #\n",
    "raw_df = pd.read_pickle(os.path.join(DIR_DATA, survey_file))\n",
    "raw_df = mod_df(raw_df)\n",
    "# ------------------------------------------------------------------------------------------------------------------- #\n",
    "\n",
    "# ------------------------------------------------------------------------------------------------------------------- #\n",
    "# Load Simulated Survey from file (Download from ftp://ftp.astro.caltech.edu/users/ebellm/one_year_sim_incomplete.db)\n",
    "# Currently, DES filters are used as proxies for ZTF filters\n",
    "# ------------------------------------------------------------------------------------------------------------------- #\n",
    "plan = simsurvey.SurveyPlan(time=raw_df['jd'], band=raw_df['filterid'], obs_field=raw_df['fieldid'], \n",
    "                            skynoise=raw_df['skynoise'], obs_ccd=raw_df['chid'], ccds=ccds, comment=raw_df['progid'], \n",
    "                            fields={k: v for k, v in fields.items() if k in ['ra', 'dec', 'field_id']})\n",
    "\n",
    "mjd_range = (plan.cadence['time'].min() - 30, plan.cadence['time'].max() + 30)\n",
    "# ------------------------------------------------------------------------------------------------------------------- #"
   ]
  },
  {
   "cell_type": "code",
   "execution_count": 4,
   "metadata": {},
   "outputs": [
    {
     "name": "stdout",
     "output_type": "stream",
     "text": [
      "<class 'astropy.table.table.Table'> 5337921\n"
     ]
    },
    {
     "data": {
      "text/html": [
       "<i>Table length=5337921</i>\n",
       "<table id=\"table139972378792680\" class=\"table-striped table-bordered table-condensed\">\n",
       "<thead><tr><th>time</th><th>band</th><th>zp</th><th>skynoise</th><th>RA</th><th>Dec</th><th>field</th><th>ccd</th><th>comment</th></tr></thead>\n",
       "<thead><tr><th>float64</th><th>object</th><th>float64</th><th>float64</th><th>float64</th><th>float64</th><th>int64</th><th>int64</th><th>int64</th></tr></thead>\n",
       "<tr><td>2458197.8162153</td><td>ztfr</td><td>nan</td><td>2801.495928715667</td><td>201.71129</td><td>18.95</td><td>578</td><td>0</td><td>1</td></tr>\n",
       "<tr><td>2458197.9025462996</td><td>ztfr</td><td>nan</td><td>1179.2068563255764</td><td>224.27392</td><td>47.75</td><td>759</td><td>2</td><td>1</td></tr>\n",
       "<tr><td>2458197.9160069</td><td>ztfr</td><td>nan</td><td>2058.3062636998407</td><td>235.44307</td><td>33.35</td><td>678</td><td>49</td><td>1</td></tr>\n",
       "<tr><td>2458198.8676389</td><td>ztfr</td><td>nan</td><td>1930.6786571477928</td><td>231.42857</td><td>69.35</td><td>846</td><td>3</td><td>1</td></tr>\n",
       "<tr><td>2458198.8676389</td><td>ztfr</td><td>nan</td><td>1731.8488902949207</td><td>231.42857</td><td>69.35</td><td>846</td><td>2</td><td>1</td></tr>\n",
       "<tr><td>2458198.9187153</td><td>ztfr</td><td>nan</td><td>1427.4141435819433</td><td>252.57882</td><td>18.95</td><td>585</td><td>19</td><td>1</td></tr>\n",
       "<tr><td>2458198.9187153</td><td>ztfr</td><td>nan</td><td>1349.3045835944579</td><td>252.57882</td><td>18.95</td><td>585</td><td>36</td><td>1</td></tr>\n",
       "<tr><td>2458198.9187153</td><td>ztfr</td><td>nan</td><td>1309.5135472284426</td><td>252.57882</td><td>18.95</td><td>585</td><td>6</td><td>1</td></tr>\n",
       "<tr><td>2458198.9187153</td><td>ztfr</td><td>nan</td><td>1676.9109308631948</td><td>252.57882</td><td>18.95</td><td>585</td><td>60</td><td>1</td></tr>\n",
       "<tr><td>2458198.9187153</td><td>ztfr</td><td>nan</td><td>1507.9606042700489</td><td>252.57882</td><td>18.95</td><td>585</td><td>2</td><td>1</td></tr>\n",
       "<tr><td>...</td><td>...</td><td>...</td><td>...</td><td>...</td><td>...</td><td>...</td><td>...</td><td>...</td></tr>\n",
       "<tr><td>2458795.7076272997</td><td>ztfg</td><td>nan</td><td>2378.3183991025107</td><td>37.42753</td><td>40.55</td><td>698</td><td>30</td><td>1</td></tr>\n",
       "<tr><td>2458795.7076272997</td><td>ztfg</td><td>nan</td><td>2714.625945773122</td><td>37.42753</td><td>40.55</td><td>698</td><td>2</td><td>1</td></tr>\n",
       "<tr><td>2458795.7076272997</td><td>ztfg</td><td>nan</td><td>2267.0964436254485</td><td>37.42753</td><td>40.55</td><td>698</td><td>44</td><td>1</td></tr>\n",
       "<tr><td>2458795.7076272997</td><td>ztfg</td><td>nan</td><td>2571.2836936812955</td><td>37.42753</td><td>40.55</td><td>698</td><td>50</td><td>1</td></tr>\n",
       "<tr><td>2458795.7076272997</td><td>ztfg</td><td>nan</td><td>2415.850167990356</td><td>37.42753</td><td>40.55</td><td>698</td><td>4</td><td>1</td></tr>\n",
       "<tr><td>2458795.7076272997</td><td>ztfg</td><td>nan</td><td>2620.776559147658</td><td>37.42753</td><td>40.55</td><td>698</td><td>0</td><td>1</td></tr>\n",
       "<tr><td>2458795.7076272997</td><td>ztfg</td><td>nan</td><td>2307.756567986616</td><td>37.42753</td><td>40.55</td><td>698</td><td>45</td><td>1</td></tr>\n",
       "<tr><td>2458795.7076272997</td><td>ztfg</td><td>nan</td><td>2483.304615184824</td><td>37.42753</td><td>40.55</td><td>698</td><td>9</td><td>1</td></tr>\n",
       "<tr><td>2458795.7076272997</td><td>ztfg</td><td>nan</td><td>2512.5227085514816</td><td>37.42753</td><td>40.55</td><td>698</td><td>1</td><td>1</td></tr>\n",
       "<tr><td>2458795.7076272997</td><td>ztfg</td><td>nan</td><td>2267.5140966895724</td><td>37.42753</td><td>40.55</td><td>698</td><td>55</td><td>1</td></tr>\n",
       "</table>"
      ],
      "text/plain": [
       "<Table length=5337921>\n",
       "       time         band     zp        skynoise      ... field  ccd  comment\n",
       "     float64       object float64      float64       ... int64 int64  int64 \n",
       "------------------ ------ ------- ------------------ ... ----- ----- -------\n",
       "   2458197.8162153   ztfr     nan  2801.495928715667 ...   578     0       1\n",
       "2458197.9025462996   ztfr     nan 1179.2068563255764 ...   759     2       1\n",
       "   2458197.9160069   ztfr     nan 2058.3062636998407 ...   678    49       1\n",
       "   2458198.8676389   ztfr     nan 1930.6786571477928 ...   846     3       1\n",
       "   2458198.8676389   ztfr     nan 1731.8488902949207 ...   846     2       1\n",
       "   2458198.9187153   ztfr     nan 1427.4141435819433 ...   585    19       1\n",
       "   2458198.9187153   ztfr     nan 1349.3045835944579 ...   585    36       1\n",
       "   2458198.9187153   ztfr     nan 1309.5135472284426 ...   585     6       1\n",
       "   2458198.9187153   ztfr     nan 1676.9109308631948 ...   585    60       1\n",
       "   2458198.9187153   ztfr     nan 1507.9606042700489 ...   585     2       1\n",
       "               ...    ...     ...                ... ...   ...   ...     ...\n",
       "2458795.7076272997   ztfg     nan 2378.3183991025107 ...   698    30       1\n",
       "2458795.7076272997   ztfg     nan  2714.625945773122 ...   698     2       1\n",
       "2458795.7076272997   ztfg     nan 2267.0964436254485 ...   698    44       1\n",
       "2458795.7076272997   ztfg     nan 2571.2836936812955 ...   698    50       1\n",
       "2458795.7076272997   ztfg     nan  2415.850167990356 ...   698     4       1\n",
       "2458795.7076272997   ztfg     nan  2620.776559147658 ...   698     0       1\n",
       "2458795.7076272997   ztfg     nan  2307.756567986616 ...   698    45       1\n",
       "2458795.7076272997   ztfg     nan  2483.304615184824 ...   698     9       1\n",
       "2458795.7076272997   ztfg     nan 2512.5227085514816 ...   698     1       1\n",
       "2458795.7076272997   ztfg     nan 2267.5140966895724 ...   698    55       1"
      ]
     },
     "execution_count": 4,
     "metadata": {},
     "output_type": "execute_result"
    }
   ],
   "source": [
    "# ------------------------------------------------------------------------------------------------------------------- #\n",
    "# Review the pointing schedule, you can use this table\n",
    "# ------------------------------------------------------------------------------------------------------------------- #\n",
    "print (type(plan.pointings), len(plan.pointings))\n",
    "# print (ccds)\n",
    "plan.pointings\n",
    "# ------------------------------------------------------------------------------------------------------------------- #"
   ]
  },
  {
   "cell_type": "markdown",
   "metadata": {},
   "source": [
    "## TransientGenerator\n",
    "The transient generator combines a model and a distribution representing the transient population, and randomly draws all parameters needed to simulate the lightcurves. For well studied transient types, e.g. SNe Ia, models and generators have been predefined for easy use.\n",
    "\n",
    "Here the maximum redshift has been kept very low in order make the simulation short. In reality $z_{max} = 0.2$ would be more realistic."
   ]
  },
  {
   "cell_type": "code",
   "execution_count": 5,
   "metadata": {},
   "outputs": [
    {
     "name": "stdout",
     "output_type": "stream",
     "text": [
      "<class 'simsurvey.simultarget.TransientGenerator'>\n"
     ]
    }
   ],
   "source": [
    "# ------------------------------------------------------------------------------------------------------------------- #\n",
    "# Define the parameters for the Transient Generator\n",
    "# ------------------------------------------------------------------------------------------------------------------- #\n",
    "tr = simsurvey.get_transient_generator(zrange=(0.0, 0.05), dec_range=(-31,90), ra_range=(0, 360),\n",
    "                                       transient='Ia', template='salt2', mjd_range=(mjd_range[0], mjd_range[1]),\n",
    "                                       sfd98_dir=DIR_SFD)\n",
    "print (type(tr))\n",
    "# ------------------------------------------------------------------------------------------------------------------- #"
   ]
  },
  {
   "cell_type": "markdown",
   "metadata": {},
   "source": [
    "## SimulSurvey\n",
    "Lastly, all parts are combined in a SimulSurvey object that will generate the lightcurves.\n",
    "(This may take about a minute or two.)"
   ]
  },
  {
   "cell_type": "code",
   "execution_count": 6,
   "metadata": {},
   "outputs": [
    {
     "name": "stdout",
     "output_type": "stream",
     "text": [
      "Determining field IDs for all objects\n"
     ]
    },
    {
     "data": {
      "application/vnd.jupyter.widget-view+json": {
       "model_id": "481299541b3d4bbdbd973e66be63e767",
       "version_major": 2,
       "version_minor": 0
      },
      "text/plain": [
       "FloatProgress(value=0.0)"
      ]
     },
     "metadata": {},
     "output_type": "display_data"
    },
    {
     "name": "stdout",
     "output_type": "stream",
     "text": [
      "\n",
      "Generating lightcurves\n"
     ]
    },
    {
     "data": {
      "application/vnd.jupyter.widget-view+json": {
       "model_id": "f14217ffefa24dcbb16608d09080d94a",
       "version_major": 2,
       "version_minor": 0
      },
      "text/plain": [
       "FloatProgress(value=0.0)"
      ]
     },
     "metadata": {},
     "output_type": "display_data"
    },
    {
     "name": "stdout",
     "output_type": "stream",
     "text": [
      "\n"
     ]
    }
   ],
   "source": [
    "# ------------------------------------------------------------------------------------------------------------------- #\n",
    "# Generate The Light Curves\n",
    "# ------------------------------------------------------------------------------------------------------------------- #\n",
    "survey = simsurvey.SimulSurvey(generator=tr, plan=plan)\n",
    "lcs = survey.get_lightcurves(progress_bar=True, notebook=True)\n",
    "#, notebook=True # If you get an error because of the progress_bar, delete this line.)\n",
    "# ------------------------------------------------------------------------------------------------------------------- #"
   ]
  },
  {
   "cell_type": "code",
   "execution_count": 7,
   "metadata": {},
   "outputs": [
    {
     "name": "stdout",
     "output_type": "stream",
     "text": [
      "821\n",
      "       time        band        flux        ... field ccd comment\n",
      "------------------ ---- ------------------ ... ----- --- -------\n",
      "   2458612.7465741 ztfr -625.9298358008731 ...   627   8       1\n",
      "   2458616.6698264 ztfr 124.56391184728001 ...   627   8       1\n",
      "   2458616.7316319 ztfg -70.92966507662162 ...   627   8       1\n",
      "2458618.7593402998 ztfr 1843.9699668038236 ...  1671   2       1\n",
      "   2458619.7302778 ztfg -4768.751094060957 ...   627   8       1\n",
      "2458628.7102662004 ztfg  16177.08308891373 ...   627   8       1\n",
      "   2458633.7080208 ztfr  82759.82376957661 ...   627   8       1\n",
      "   2458633.7592477 ztfg 102699.00169824365 ...   627   8       1\n",
      "   2458636.7240741 ztfr 142501.98640304222 ...   627   8       1\n",
      "   2458636.7558912 ztfg 177808.60620332745 ...   627   8       1\n",
      "               ...  ...                ... ...   ... ...     ...\n",
      "   2458666.7056019 ztfg  45405.64399253544 ...   627   8       1\n",
      "   2458670.6768287 ztfr  83802.66544917168 ...   627   8       1\n",
      "   2458670.6928704 ztfg  33610.44302557377 ...   627   8       1\n",
      "   2458673.6757639 ztfg  26792.74608200504 ...   627   8       1\n",
      "   2458676.6869907 ztfg 27473.929823212828 ...   627   8       1\n",
      "   2458676.7076852 ztfr 57957.466732905836 ...   627   8       1\n",
      "2458679.6753356005 ztfg 22465.182185300684 ...   627   8       1\n",
      "   2458679.7169097 ztfr  47187.98956420232 ...   627   8       1\n",
      "2458682.6697106003 ztfg 19387.749468136604 ...   627   8       1\n",
      "   2458685.6842361 ztfg  17372.35014486928 ...   627   8       1\n",
      "    2458692.694537 ztfg  16726.94185401656 ...   627   8       1\n",
      "Length = 35 rows\n",
      "Time Taken = 146.93320894241333\n"
     ]
    }
   ],
   "source": [
    "# ------------------------------------------------------------------------------------------------------------------- #\n",
    "# Check the Generated Light Curves\n",
    "# ------------------------------------------------------------------------------------------------------------------- #\n",
    "print (len(lcs.lcs))\n",
    "print (lcs[0])\n",
    "\n",
    "print(\"Time Taken = {0}\".format(time.time() - t1))\n",
    "# ------------------------------------------------------------------------------------------------------------------- #"
   ]
  },
  {
   "cell_type": "markdown",
   "metadata": {},
   "source": [
    "## Analysing the output\n",
    "\n",
    "The output of `get_lightcurves()` is a `LightcurveCollection` object. Lightcurves are automatically filter, so only those that would be detected in the survey are kept.\n",
    "\n",
    "You can save a the lightcurves in a pickle file and load them again later without rerunning the simulation."
   ]
  },
  {
   "cell_type": "code",
   "execution_count": 8,
   "metadata": {},
   "outputs": [],
   "source": [
    "# ------------------------------------------------------------------------------------------------------------------- #\n",
    "# Save the Light Curves in a Pickle File\n",
    "# ------------------------------------------------------------------------------------------------------------------- #\n",
    "lcs.save('lcs_tutorial.pkl')\n",
    "lcs = simsurvey.LightcurveCollection(load='lcs_tutorial.pkl')\n",
    "# ------------------------------------------------------------------------------------------------------------------- #"
   ]
  },
  {
   "cell_type": "markdown",
   "metadata": {},
   "source": [
    "You can inspect the lightcurves manually. This example should return the lightcurve with the most points with S/N > 5."
   ]
  },
  {
   "cell_type": "code",
   "execution_count": 9,
   "metadata": {},
   "outputs": [
    {
     "data": {
      "image/png": "[encoded data removed]",
      "text/plain": [
       "<Figure size 561.6x226.8 with 2 Axes>"
      ]
     },
     "metadata": {
      "needs_background": "light"
     },
     "output_type": "display_data"
    }
   ],
   "source": [
    "_ = sncosmo.plot_lc(lcs[6])"
   ]
  },
  {
   "cell_type": "markdown",
   "metadata": {},
   "source": [
    "The two figures below show how early the MNe are detected and at what redshifts. The simulation input parameters of transients that were not detected are also kept, so can check completeness. "
   ]
  },
  {
   "cell_type": "code",
   "execution_count": 10,
   "metadata": {},
   "outputs": [],
   "source": [
    "# from scipy.stats import norm\n",
    "# import matplotlib.mlab as mlab\n",
    "\n",
    "# heights, bins = np.histogram(lcs.stats['p_det'], range=(-20, 5), bins=25)\n",
    "# mean, sigma = norm.fit(lcs.stats['p_det'])\n",
    "# fit = mlab.normpdf(bins, mean, sigma)\n",
    "# print (1 / fit)\n",
    "# ax1.plot(bins, fit, c='r', ls='--', lw=1, label='_nolegend_')\n"
   ]
  },
  {
   "cell_type": "code",
   "execution_count": 11,
   "metadata": {},
   "outputs": [
    {
     "data": {
      "image/png": "[encoded data removed]",
      "text/plain": [
       "<Figure size 864x648 with 1 Axes>"
      ]
     },
     "metadata": {
      "needs_background": "light"
     },
     "output_type": "display_data"
    }
   ],
   "source": [
    "fig1 = plt.figure(figsize=(12, 9))\n",
    "ax1 = fig1.add_subplot(111)\n",
    "\n",
    "heights, bins = np.histogram(lcs.stats['p_det'], range=(-20, 10), bins=30)\n",
    "centers = (bins[:-1] + bins[1:]) / 2\n",
    "\n",
    "ax1.bar(centers, heights, width=0.75, color=sns.color_palette('rocket', int(len(bins) * 1.2)))\n",
    "# ax1.hist(lcs.stats['p_det'], histtype='bar', rwidth=0.75, color='dimgrey', range=(-20, 8), bins=28)\n",
    "\n",
    "ax1.grid(True, which='major', ls='--', lw=1)\n",
    "ax1.xaxis.set_ticks_position('both')\n",
    "ax1.yaxis.set_ticks_position('both')\n",
    "ax1.yaxis.set_major_locator(MultipleLocator(10))\n",
    "ax1.yaxis.set_minor_locator(MultipleLocator(1))\n",
    "ax1.xaxis.set_major_locator(MultipleLocator(5))\n",
    "ax1.xaxis.set_minor_locator(MultipleLocator(0.5))\n",
    "ax1.tick_params(axis='both', which='major', direction='in', width=1.6, length=9, labelsize=16)\n",
    "ax1.tick_params(axis='both', which='minor', direction='in', width=1.0, length=5, labelsize=16)\n",
    "\n",
    "ax1.set_xlabel('Detection Phase [Days in Observer Frame]', fontsize=18)\n",
    "ax1.set_ylabel('Number of SNe', fontsize=18)\n",
    "\n",
    "fig1.savefig('PLOT_IaDetectionPhaseDistribution.pdf', format='pdf', dpi=2000, bbox_inches='tight')\n",
    "plt.show()\n",
    "plt.close(fig1)"
   ]
  },
  {
   "cell_type": "code",
   "execution_count": 12,
   "metadata": {},
   "outputs": [
    {
     "data": {
      "image/png": "[encoded data removed]",
      "text/plain": [
       "<Figure size 864x720 with 1 Axes>"
      ]
     },
     "metadata": {
      "needs_background": "light"
     },
     "output_type": "display_data"
    }
   ],
   "source": [
    "fig2 = plt.figure(figsize=(12, 10))\n",
    "ax2 = fig2.add_subplot(111)\n",
    "\n",
    "zhsfull, zbinsfull = np.histogram(lcs.meta_full['z'], range=(0, 0.05), bins=25)\n",
    "zcentersfull = (zbinsfull[:-1] + zbinsfull[1:]) / 2\n",
    "zhs, zbins = np.histogram(lcs.meta['z'], range=(0, 0.05), bins=25)\n",
    "zcenters = (zbins[:-1] + zbins[1:]) / 2\n",
    "\n",
    "ax2.bar(zcentersfull - 0.0004, zhsfull, width=0.0008, alpha=0.9, color='orangered', label='All')\n",
    "ax2.bar(zcenters + 0.0004, zhs, width=0.0008, alpha=0.9, color='navy', label='Detected')\n",
    "\n",
    "# ax2.hist(lcs.meta_full['z'], lw=2, ls='-', histtype='step', color='orangered', range=(0,0.05), bins=25, label='All')\n",
    "# ax2.hist(lcs.meta['z'], lw=2, ls='-', histtype='step', color='navy', range=(0, 0.05), bins=25, label='Detected')\n",
    "\n",
    "ax2.legend(fontsize=17, loc=2)\n",
    "ax2.grid(True, which='major', ls='--', lw=1)\n",
    "ax2.xaxis.set_ticks_position('both')\n",
    "ax2.yaxis.set_ticks_position('both')\n",
    "ax2.yaxis.set_major_locator(MultipleLocator(10))\n",
    "ax2.yaxis.set_minor_locator(MultipleLocator(1))\n",
    "ax2.xaxis.set_major_locator(MultipleLocator(0.01))\n",
    "ax2.xaxis.set_minor_locator(MultipleLocator(0.001))\n",
    "ax2.tick_params(axis='both', which='major', direction='in', width=1.6, length=9, labelsize=16)\n",
    "ax2.tick_params(axis='both', which='minor', direction='in', width=1.0, length=5, labelsize=16)\n",
    "\n",
    "ax2.set_xlabel('Redshift [z]', fontsize=18)\n",
    "ax2.set_ylabel('Number of SNe', fontsize=18)\n",
    "\n",
    "fig2.savefig('PLOT_IaRedshiftDistribution.pdf', format='pdf', dpi=2000, bbox_inches='tight')\n",
    "plt.show()\n",
    "plt.close(fig2)\n"
   ]
  },
  {
   "cell_type": "code",
   "execution_count": null,
   "metadata": {},
   "outputs": [],
   "source": []
  },
  {
   "cell_type": "code",
   "execution_count": 13,
   "metadata": {},
   "outputs": [],
   "source": [
    "# # ------------------------------------------------------------------------------------------------------------------- #\n",
    "# # Test Code To Find The Faulty ZTF Data\n",
    "# # ------------------------------------------------------------------------------------------------------------------- #\n",
    "# raw_df = pd.read_pickle(os.path.join(DIR_DATA, survey_file))\n",
    "# idx_range = raw_df.index.values\n",
    "# val_range = np.array_split(idx_range, 1000)\n",
    "\n",
    "# for val in val_range:\n",
    "#     try:\n",
    "#         raw_df = mod_df(pd.read_pickle(os.path.join(DIR_DATA, survey_file)).iloc[val])\n",
    "#         plan = simsurvey.SurveyPlan(time=raw_df['jd'], band=raw_df['filterid'], obs_field=raw_df['fieldid'], \n",
    "#                             skynoise=raw_df['skynoise'], obs_ccd=raw_df['chid'], ccds=ccds, comment=raw_df['progid'], \n",
    "#                             fields={k: v for k, v in fields.items() if k in ['ra', 'dec', 'field_id']})\n",
    "#     except IndexError:\n",
    "#         print (val)\n",
    "#         import sys\n",
    "#         sys.exit(1)\n",
    "#     else:\n",
    "#         continue\n",
    "    \n",
    "# # ------------------------------------------------------------------------------------------------------------------- #"
   ]
  },
  {
   "cell_type": "code",
   "execution_count": null,
   "metadata": {},
   "outputs": [],
   "source": []
  },
  {
   "cell_type": "code",
   "execution_count": 14,
   "metadata": {},
   "outputs": [],
   "source": [
    "# raw_df = pd.read_pickle(os.path.join(DIR_DATA, survey_file)).iloc[3906128:3906135]\n",
    "# raw_df = mod_df(raw_df)\n",
    "# print (raw_df)\n",
    "# plan = simsurvey.SurveyPlan(time=raw_df['jd'], band=raw_df['filterid'], obs_field=raw_df['fieldid'], \n",
    "#                             skynoise=raw_df['skynoise'], obs_ccd=raw_df['chid'], ccds=ccds, comment=raw_df['progid'], \n",
    "#                             fields={k: v for k, v in fields.items() if k in ['ra', 'dec', 'field_id']})"
   ]
  },
  {
   "cell_type": "code",
   "execution_count": null,
   "metadata": {},
   "outputs": [],
   "source": []
  },
  {
   "cell_type": "code",
   "execution_count": null,
   "metadata": {},
   "outputs": [],
   "source": []
  }
 ],
 "metadata": {
  "anaconda-cloud": {},
  "kernelspec": {
   "display_name": "Python 3",
   "language": "python",
   "name": "python3"
  },
  "language_info": {
   "codemirror_mode": {
    "name": "ipython",
    "version": 3
   },
   "file_extension": ".py",
   "mimetype": "text/x-python",
   "name": "python",
   "nbconvert_exporter": "python",
   "pygments_lexer": "ipython3",
   "version": "3.7.2"
  }
 },
 "nbformat": 4,
 "nbformat_minor": 1
}
