{
 "cells": [
  {
   "cell_type": "code",
   "execution_count": 1,
   "metadata": {},
   "outputs": [],
   "source": [
    "import os\n",
    "# home_dir = os.environ.get('HOME')\n",
    "from astropy.table import Table\n",
    "%matplotlib inline\n",
    "import pandas as pd\n",
    "import numpy as np\n",
    "from matplotlib import *\n",
    "import matplotlib.pyplot as plt\n",
    "from astropy.time import Time\n",
    "#import pysqlite3\n",
    "from astropy.cosmology import Planck15\n",
    "import simsurvey\n",
    "import sncosmo\n",
    "#from ampel.ztf.archive.ArchiveDB import ArchiveDB\n",
    "# import simsurvey_tools as sst\n",
    "import datetime\n",
    "import pickle\n",
    "import csv\n",
    "labelsize=14\n",
    "plt.rcParams['xtick.major.size'] = 13\n",
    "plt.rcParams['xtick.major.width'] = 2\n",
    "plt.rcParams['xtick.minor.size'] = 8\n",
    "plt.rcParams['xtick.minor.width'] = 2\n",
    "plt.rcParams['ytick.major.size'] = 13\n",
    "plt.rcParams['ytick.major.width'] =  2\n",
    "plt.rcParams['ytick.minor.size'] =  8\n",
    "plt.rcParams['ytick.minor.width'] = 2\n",
    "\n",
    "plt.rcParams['axes.labelsize'] = labelsize\n",
    "plt.rcParams['xtick.labelsize'] = labelsize \n",
    "plt.rcParams['ytick.labelsize'] = labelsize\n",
    "rcParams['xtick.direction'] = 'in' \n",
    "rcParams['ytick.direction'] = 'in'"
   ]
  },
  {
   "cell_type": "code",
   "execution_count": 2,
   "metadata": {},
   "outputs": [
    {
     "name": "stdout",
     "output_type": "stream",
     "text": [
      "(814, 10)\n"
     ]
    }
   ],
   "source": [
    "df = pd.read_pickle('/data/cfremling/simsurvey/notebooks/df_sim_stats_full.p')\n",
    "fid_data = df.drop_duplicates(subset='fieldid',keep='first')\n",
    "print (fid_data.shape)\n",
    "fid = fid_data['fieldid'].values\n"
   ]
  },
  {
   "cell_type": "code",
   "execution_count": null,
   "metadata": {
    "scrolled": true
   },
   "outputs": [],
   "source": []
  },
  {
   "cell_type": "code",
   "execution_count": null,
   "metadata": {
    "scrolled": true
   },
   "outputs": [],
   "source": []
  },
  {
   "cell_type": "code",
   "execution_count": 4,
   "metadata": {},
   "outputs": [
    {
     "ename": "PermissionError",
     "evalue": "[Errno 13] Permission denied: '/data/lyan/simsurvey/output/cadence-data.csv'",
     "output_type": "error",
     "traceback": [
      "\u001b[0;31m---------------------------------------------------------------------------\u001b[0m",
      "\u001b[0;31mPermissionError\u001b[0m                           Traceback (most recent call last)",
      "\u001b[0;32m<ipython-input-4-9bb968cfc734>\u001b[0m in \u001b[0;36m<module>\u001b[0;34m()\u001b[0m\n\u001b[0;32m----> 1\u001b[0;31m \u001b[0mf\u001b[0m \u001b[0;34m=\u001b[0m \u001b[0mopen\u001b[0m\u001b[0;34m(\u001b[0m\u001b[0;34m'/data/lyan/simsurvey/output/cadence-data.csv'\u001b[0m\u001b[0;34m,\u001b[0m\u001b[0;34m'w'\u001b[0m\u001b[0;34m)\u001b[0m\u001b[0;34m\u001b[0m\u001b[0;34m\u001b[0m\u001b[0m\n\u001b[0m\u001b[1;32m      2\u001b[0m \u001b[0mfieldnames\u001b[0m\u001b[0;34m=\u001b[0m\u001b[0;34m[\u001b[0m\u001b[0;34m'fieldid'\u001b[0m\u001b[0;34m,\u001b[0m\u001b[0;34m'total'\u001b[0m\u001b[0;34m,\u001b[0m\u001b[0;34m'Nogt10d'\u001b[0m\u001b[0;34m,\u001b[0m\u001b[0;34m'maxdt'\u001b[0m\u001b[0;34m]\u001b[0m\u001b[0;34m\u001b[0m\u001b[0;34m\u001b[0m\u001b[0m\n\u001b[1;32m      3\u001b[0m \u001b[0mwriter\u001b[0m \u001b[0;34m=\u001b[0m \u001b[0mcsv\u001b[0m\u001b[0;34m.\u001b[0m\u001b[0mDictWriter\u001b[0m\u001b[0;34m(\u001b[0m\u001b[0mf\u001b[0m\u001b[0;34m,\u001b[0m\u001b[0mfieldnames\u001b[0m\u001b[0;34m=\u001b[0m\u001b[0mfieldnames\u001b[0m\u001b[0;34m)\u001b[0m\u001b[0;34m\u001b[0m\u001b[0;34m\u001b[0m\u001b[0m\n\u001b[1;32m      4\u001b[0m \u001b[0mwriter\u001b[0m\u001b[0;34m.\u001b[0m\u001b[0mwriteheader\u001b[0m\u001b[0;34m(\u001b[0m\u001b[0;34m)\u001b[0m\u001b[0;34m\u001b[0m\u001b[0;34m\u001b[0m\u001b[0m\n",
      "\u001b[0;31mPermissionError\u001b[0m: [Errno 13] Permission denied: '/data/lyan/simsurvey/output/cadence-data.csv'"
     ]
    }
   ],
   "source": [
    "f = open('/data/lyan/simsurvey/output/cadence-data.csv','w')\n",
    "fieldnames=['fieldid','total','Nogt10d','maxdt']\n",
    "writer = csv.DictWriter(f,fieldnames=fieldnames)\n",
    "writer.writeheader()"
   ]
  },
  {
   "cell_type": "code",
   "execution_count": null,
   "metadata": {},
   "outputs": [],
   "source": [
    "#fid_data"
   ]
  },
  {
   "cell_type": "code",
   "execution_count": null,
   "metadata": {},
   "outputs": [],
   "source": [
    "for i in range(len(fid_data)):\n",
    "    plot_data = df[df['fieldid'] == fid[i]]\n",
    "    subset = plot_data.drop_duplicates(subset='jd',keep='first')\n",
    "    stm = subset.sort_values(by=['jd'])\n",
    "    dt = stm['jd'] - stm['jd'].shift()\n",
    "    dtime = pd.concat([dtime,dt],axis=0)\n",
    "    sz = len(dt)\n",
    "    ldt = dt[abs(dt)>10]\n",
    "    sz2 = len(ldt)\n",
    "    sz3 = dt.max()\n",
    "#    writer.writerow({'fieldid':fid[i],'total':sz,'Nogt10d': sz2,'maxdt': sz3})\n",
    "    \n",
    "#f.close()"
   ]
  },
  {
   "cell_type": "code",
   "execution_count": 5,
   "metadata": {
    "scrolled": true
   },
   "outputs": [],
   "source": [
    "cad = pd.read_csv('/data/lyan/simsurvey/output/cadence-data.csv')"
   ]
  },
  {
   "cell_type": "code",
   "execution_count": null,
   "metadata": {},
   "outputs": [],
   "source": [
    "#len(cad[cad['total'] == 1])"
   ]
  },
  {
   "cell_type": "code",
   "execution_count": 22,
   "metadata": {},
   "outputs": [
    {
     "name": "stderr",
     "output_type": "stream",
     "text": [
      "/data/lyan/anaconda3/lib/python3.7/site-packages/numpy/lib/histograms.py:824: RuntimeWarning: invalid value encountered in greater_equal\n",
      "  keep = (tmp_a >= first_edge)\n",
      "/data/lyan/anaconda3/lib/python3.7/site-packages/numpy/lib/histograms.py:825: RuntimeWarning: invalid value encountered in less_equal\n",
      "  keep &= (tmp_a <= last_edge)\n"
     ]
    },
    {
     "data": {
      "image/png": "[encoded data removed]",
      "text/plain": [
       "<Figure size 792x504 with 1 Axes>"
      ]
     },
     "metadata": {
      "needs_background": "light"
     },
     "output_type": "display_data"
    }
   ],
   "source": [
    "plot_data = df[df['fieldid'] == 784]\n",
    "subset = plot_data.drop_duplicates(subset='jd',keep='first')\n",
    "stm = subset.sort_values(by=['jd'])\n",
    "# print (stm['jd'], stm['jd'].shift())\n",
    "dt = stm['jd'] - stm['jd'].shift()\n",
    "fig = plt.figure(figsize=(11,7))\n",
    "plt.hist(dt,bins=300, histtype='bar')\n",
    "plt.xlim(-1,11)\n",
    "plt.show()\n",
    "\n",
    "#plt.ylim(0,20)"
   ]
  },
  {
   "cell_type": "code",
   "execution_count": 21,
   "metadata": {
    "scrolled": false
   },
   "outputs": [
    {
     "data": {
      "text/plain": [
       "Text(0.5, 0, 'Time')"
      ]
     },
     "execution_count": 21,
     "metadata": {},
     "output_type": "execute_result"
    },
    {
     "data": {
      "image/png": "[encoded data removed]",
      "text/plain": [
       "<Figure size 792x576 with 1 Axes>"
      ]
     },
     "metadata": {
      "needs_background": "light"
     },
     "output_type": "display_data"
    }
   ],
   "source": [
    "plot_data = df[df['fieldid'] == 468]\n",
    "subset = plot_data.drop_duplicates(subset='jd',keep='first')\n",
    "dtime = (subset['jd'][subset['filterid'] == 1] - 2458485.0)\n",
    "fig = plt.figure(figsize=(11,8))\n",
    "plt.hist(dtime,bins=300)\n",
    "plt.xlabel('Time')\n",
    "#plt.xlim(150,170)"
   ]
  },
  {
   "cell_type": "code",
   "execution_count": null,
   "metadata": {},
   "outputs": [],
   "source": [
    "#df"
   ]
  },
  {
   "cell_type": "code",
   "execution_count": 23,
   "metadata": {},
   "outputs": [],
   "source": [
    "r_subset = df[(df['filterid'] == 2) & (df['progid'] == 1)]\n",
    "r_subset2 = r_subset.drop_duplicates(subset='jd',keep='first')\n",
    "nfid = len(r_subset2)\n",
    "t0 = r_subset2['jd'].values[0]\n",
    "n_uniqfid = np.array([])\n",
    "for i in range(nfid):\n",
    "    t1 = r_subset2['jd'].values[i]\n",
    "    if (t1 - t0) < 3.0:\n",
    "        ntot = i + 1\n",
    "    else:\n",
    "        t0 = r_subset2['jd'].values[i-1]\n",
    "        n_uniqfid = np.append(n_uniqfid,ntot)\n",
    "#        print(n_uniqfid)\n",
    "\n",
    "    "
   ]
  },
  {
   "cell_type": "code",
   "execution_count": 24,
   "metadata": {},
   "outputs": [
    {
     "data": {
      "text/plain": [
       "array([3.6000e+01, 3.6000e+01, 1.7300e+02, 4.0400e+02, 5.7100e+02,\n",
       "       7.7900e+02, 9.5100e+02, 1.0350e+03, 1.1730e+03, 1.1730e+03,\n",
       "       1.3140e+03, 1.4360e+03, 1.5450e+03, 1.5750e+03, 1.6910e+03,\n",
       "       1.8690e+03, 1.9520e+03, 1.9890e+03, 2.0930e+03, 2.2290e+03,\n",
       "       2.3640e+03, 2.4480e+03, 2.6180e+03, 2.8100e+03, 3.0100e+03,\n",
       "       3.2230e+03, 3.4370e+03, 3.6670e+03, 3.9040e+03, 4.0990e+03,\n",
       "       4.2890e+03, 4.4940e+03, 4.7730e+03, 4.8770e+03, 4.9720e+03,\n",
       "       5.1470e+03, 5.2970e+03, 5.4250e+03, 5.6130e+03, 5.7730e+03,\n",
       "       5.9320e+03, 6.1530e+03, 6.3430e+03, 6.5290e+03, 6.6960e+03,\n",
       "       6.8040e+03, 7.0240e+03, 7.2180e+03, 7.4520e+03, 7.7380e+03,\n",
       "       8.2720e+03, 8.7310e+03, 9.1020e+03, 9.4560e+03, 9.7950e+03,\n",
       "       1.0208e+04, 1.0630e+04, 1.1006e+04, 1.1373e+04, 1.1648e+04,\n",
       "       1.1982e+04, 1.2405e+04, 1.2785e+04, 1.2881e+04, 1.2881e+04,\n",
       "       1.3068e+04, 1.3068e+04, 1.3600e+04, 1.4111e+04, 1.4541e+04,\n",
       "       1.4958e+04, 1.5404e+04, 1.5804e+04, 1.6107e+04, 1.6307e+04,\n",
       "       1.6307e+04, 1.6801e+04, 1.6982e+04, 1.6982e+04, 1.7602e+04,\n",
       "       1.7602e+04, 1.7817e+04, 1.8052e+04, 1.8321e+04, 1.8621e+04,\n",
       "       1.8979e+04, 1.9300e+04, 1.9300e+04, 1.9786e+04, 1.9793e+04,\n",
       "       2.0174e+04, 2.0424e+04, 2.0799e+04, 2.0880e+04, 2.0880e+04,\n",
       "       2.1230e+04, 2.1630e+04, 2.1965e+04, 2.2300e+04, 2.2328e+04,\n",
       "       2.2328e+04, 2.2562e+04, 2.2741e+04, 2.2741e+04, 2.2938e+04,\n",
       "       2.2938e+04, 2.3428e+04, 2.3634e+04, 2.3675e+04, 2.3896e+04,\n",
       "       2.3896e+04, 2.4256e+04, 2.4608e+04, 2.4715e+04, 2.4715e+04,\n",
       "       2.4997e+04, 2.5153e+04, 2.5571e+04, 2.5609e+04, 2.5733e+04,\n",
       "       2.6145e+04, 2.6461e+04, 2.6824e+04, 2.7074e+04, 2.7321e+04,\n",
       "       2.7453e+04, 2.7647e+04, 2.7818e+04, 2.7823e+04, 2.8188e+04,\n",
       "       2.8391e+04, 2.8391e+04, 2.8521e+04, 2.8521e+04, 2.8970e+04,\n",
       "       2.9088e+04, 2.9088e+04, 2.9229e+04, 2.9229e+04, 2.9556e+04,\n",
       "       2.9878e+04, 3.0186e+04, 3.0505e+04, 3.0787e+04, 3.1097e+04,\n",
       "       3.1391e+04, 3.1810e+04, 3.2100e+04, 3.2281e+04, 3.2646e+04,\n",
       "       3.2865e+04, 3.3232e+04, 3.3522e+04, 3.3758e+04, 3.4115e+04,\n",
       "       3.4467e+04, 3.4839e+04, 3.5159e+04, 3.5333e+04, 3.5696e+04,\n",
       "       3.6085e+04, 3.6495e+04, 3.6888e+04, 3.7208e+04, 3.7617e+04,\n",
       "       3.7974e+04, 3.8265e+04, 3.8624e+04, 3.9016e+04, 3.9381e+04,\n",
       "       3.9781e+04, 4.0183e+04, 4.0326e+04, 4.0672e+04, 4.1052e+04,\n",
       "       4.1455e+04, 4.1852e+04, 4.2211e+04, 4.2588e+04, 4.3101e+04,\n",
       "       4.3216e+04, 4.3351e+04, 4.3714e+04, 4.4113e+04, 4.4556e+04,\n",
       "       4.4962e+04, 4.5467e+04, 4.5899e+04, 4.6380e+04, 4.6767e+04,\n",
       "       4.7143e+04, 4.7499e+04, 4.7931e+04, 4.8457e+04, 4.9063e+04])"
      ]
     },
     "execution_count": 24,
     "metadata": {},
     "output_type": "execute_result"
    }
   ],
   "source": [
    "n_uniqfid"
   ]
  },
  {
   "cell_type": "code",
   "execution_count": 25,
   "metadata": {},
   "outputs": [
    {
     "name": "stdout",
     "output_type": "stream",
     "text": [
      "252.7164948453608\n"
     ]
    },
    {
     "ename": "ValueError",
     "evalue": "shape mismatch: objects cannot be broadcast to a single shape",
     "output_type": "error",
     "traceback": [
      "\u001b[0;31m---------------------------------------------------------------------------\u001b[0m",
      "\u001b[0;31mValueError\u001b[0m                                Traceback (most recent call last)",
      "\u001b[0;32m<ipython-input-25-ced846eead09>\u001b[0m in \u001b[0;36m<module>\u001b[0;34m()\u001b[0m\n\u001b[1;32m      6\u001b[0m \u001b[0;34m\u001b[0m\u001b[0m\n\u001b[1;32m      7\u001b[0m \u001b[0mfig\u001b[0m \u001b[0;34m=\u001b[0m \u001b[0mplt\u001b[0m\u001b[0;34m.\u001b[0m\u001b[0mfigure\u001b[0m\u001b[0;34m(\u001b[0m\u001b[0mfigsize\u001b[0m\u001b[0;34m=\u001b[0m\u001b[0;34m(\u001b[0m\u001b[0;36m10\u001b[0m\u001b[0;34m,\u001b[0m\u001b[0;36m8\u001b[0m\u001b[0;34m)\u001b[0m\u001b[0;34m)\u001b[0m\u001b[0;34m\u001b[0m\u001b[0;34m\u001b[0m\u001b[0m\n\u001b[0;32m----> 8\u001b[0;31m \u001b[0mplt\u001b[0m\u001b[0;34m.\u001b[0m\u001b[0mbar\u001b[0m\u001b[0;34m(\u001b[0m\u001b[0mx\u001b[0m\u001b[0;34m,\u001b[0m\u001b[0mheight\u001b[0m\u001b[0;34m=\u001b[0m\u001b[0my\u001b[0m\u001b[0;34m)\u001b[0m\u001b[0;34m\u001b[0m\u001b[0;34m\u001b[0m\u001b[0m\n\u001b[0m",
      "\u001b[0;32m/data/lyan/anaconda3/lib/python3.7/site-packages/matplotlib/pyplot.py\u001b[0m in \u001b[0;36mbar\u001b[0;34m(x, height, width, bottom, align, data, **kwargs)\u001b[0m\n\u001b[1;32m   2455\u001b[0m     return gca().bar(\n\u001b[1;32m   2456\u001b[0m         \u001b[0mx\u001b[0m\u001b[0;34m,\u001b[0m \u001b[0mheight\u001b[0m\u001b[0;34m,\u001b[0m \u001b[0mwidth\u001b[0m\u001b[0;34m=\u001b[0m\u001b[0mwidth\u001b[0m\u001b[0;34m,\u001b[0m \u001b[0mbottom\u001b[0m\u001b[0;34m=\u001b[0m\u001b[0mbottom\u001b[0m\u001b[0;34m,\u001b[0m \u001b[0malign\u001b[0m\u001b[0;34m=\u001b[0m\u001b[0malign\u001b[0m\u001b[0;34m,\u001b[0m\u001b[0;34m\u001b[0m\u001b[0;34m\u001b[0m\u001b[0m\n\u001b[0;32m-> 2457\u001b[0;31m         **({\"data\": data} if data is not None else {}), **kwargs)\n\u001b[0m\u001b[1;32m   2458\u001b[0m \u001b[0;34m\u001b[0m\u001b[0m\n\u001b[1;32m   2459\u001b[0m \u001b[0;34m\u001b[0m\u001b[0m\n",
      "\u001b[0;32m/data/lyan/anaconda3/lib/python3.7/site-packages/matplotlib/__init__.py\u001b[0m in \u001b[0;36minner\u001b[0;34m(ax, data, *args, **kwargs)\u001b[0m\n\u001b[1;32m   1808\u001b[0m                         \u001b[0;34m\"the Matplotlib list!)\"\u001b[0m \u001b[0;34m%\u001b[0m \u001b[0;34m(\u001b[0m\u001b[0mlabel_namer\u001b[0m\u001b[0;34m,\u001b[0m \u001b[0mfunc\u001b[0m\u001b[0;34m.\u001b[0m\u001b[0m__name__\u001b[0m\u001b[0;34m)\u001b[0m\u001b[0;34m,\u001b[0m\u001b[0;34m\u001b[0m\u001b[0;34m\u001b[0m\u001b[0m\n\u001b[1;32m   1809\u001b[0m                         RuntimeWarning, stacklevel=2)\n\u001b[0;32m-> 1810\u001b[0;31m             \u001b[0;32mreturn\u001b[0m \u001b[0mfunc\u001b[0m\u001b[0;34m(\u001b[0m\u001b[0max\u001b[0m\u001b[0;34m,\u001b[0m \u001b[0;34m*\u001b[0m\u001b[0margs\u001b[0m\u001b[0;34m,\u001b[0m \u001b[0;34m**\u001b[0m\u001b[0mkwargs\u001b[0m\u001b[0;34m)\u001b[0m\u001b[0;34m\u001b[0m\u001b[0;34m\u001b[0m\u001b[0m\n\u001b[0m\u001b[1;32m   1811\u001b[0m \u001b[0;34m\u001b[0m\u001b[0m\n\u001b[1;32m   1812\u001b[0m         inner.__doc__ = _add_data_doc(inner.__doc__,\n",
      "\u001b[0;32m/data/lyan/anaconda3/lib/python3.7/site-packages/matplotlib/axes/_axes.py\u001b[0m in \u001b[0;36mbar\u001b[0;34m(self, x, height, width, bottom, align, **kwargs)\u001b[0m\n\u001b[1;32m   2249\u001b[0m         x, height, width, y, linewidth = np.broadcast_arrays(\n\u001b[1;32m   2250\u001b[0m             \u001b[0;31m# Make args iterable too.\u001b[0m\u001b[0;34m\u001b[0m\u001b[0;34m\u001b[0m\u001b[0;34m\u001b[0m\u001b[0m\n\u001b[0;32m-> 2251\u001b[0;31m             np.atleast_1d(x), height, width, y, linewidth)\n\u001b[0m\u001b[1;32m   2252\u001b[0m \u001b[0;34m\u001b[0m\u001b[0m\n\u001b[1;32m   2253\u001b[0m         \u001b[0;31m# Now that units have been converted, set the tick locations.\u001b[0m\u001b[0;34m\u001b[0m\u001b[0;34m\u001b[0m\u001b[0;34m\u001b[0m\u001b[0m\n",
      "\u001b[0;32m/data/lyan/anaconda3/lib/python3.7/site-packages/numpy/lib/stride_tricks.py\u001b[0m in \u001b[0;36mbroadcast_arrays\u001b[0;34m(*args, **kwargs)\u001b[0m\n\u001b[1;32m    257\u001b[0m     \u001b[0margs\u001b[0m \u001b[0;34m=\u001b[0m \u001b[0;34m[\u001b[0m\u001b[0mnp\u001b[0m\u001b[0;34m.\u001b[0m\u001b[0marray\u001b[0m\u001b[0;34m(\u001b[0m\u001b[0m_m\u001b[0m\u001b[0;34m,\u001b[0m \u001b[0mcopy\u001b[0m\u001b[0;34m=\u001b[0m\u001b[0;32mFalse\u001b[0m\u001b[0;34m,\u001b[0m \u001b[0msubok\u001b[0m\u001b[0;34m=\u001b[0m\u001b[0msubok\u001b[0m\u001b[0;34m)\u001b[0m \u001b[0;32mfor\u001b[0m \u001b[0m_m\u001b[0m \u001b[0;32min\u001b[0m \u001b[0margs\u001b[0m\u001b[0;34m]\u001b[0m\u001b[0;34m\u001b[0m\u001b[0;34m\u001b[0m\u001b[0m\n\u001b[1;32m    258\u001b[0m \u001b[0;34m\u001b[0m\u001b[0m\n\u001b[0;32m--> 259\u001b[0;31m     \u001b[0mshape\u001b[0m \u001b[0;34m=\u001b[0m \u001b[0m_broadcast_shape\u001b[0m\u001b[0;34m(\u001b[0m\u001b[0;34m*\u001b[0m\u001b[0margs\u001b[0m\u001b[0;34m)\u001b[0m\u001b[0;34m\u001b[0m\u001b[0;34m\u001b[0m\u001b[0m\n\u001b[0m\u001b[1;32m    260\u001b[0m \u001b[0;34m\u001b[0m\u001b[0m\n\u001b[1;32m    261\u001b[0m     \u001b[0;32mif\u001b[0m \u001b[0mall\u001b[0m\u001b[0;34m(\u001b[0m\u001b[0marray\u001b[0m\u001b[0;34m.\u001b[0m\u001b[0mshape\u001b[0m \u001b[0;34m==\u001b[0m \u001b[0mshape\u001b[0m \u001b[0;32mfor\u001b[0m \u001b[0marray\u001b[0m \u001b[0;32min\u001b[0m \u001b[0margs\u001b[0m\u001b[0;34m)\u001b[0m\u001b[0;34m:\u001b[0m\u001b[0;34m\u001b[0m\u001b[0;34m\u001b[0m\u001b[0m\n",
      "\u001b[0;32m/data/lyan/anaconda3/lib/python3.7/site-packages/numpy/lib/stride_tricks.py\u001b[0m in \u001b[0;36m_broadcast_shape\u001b[0;34m(*args)\u001b[0m\n\u001b[1;32m    191\u001b[0m     \u001b[0;31m# use the old-iterator because np.nditer does not handle size 0 arrays\u001b[0m\u001b[0;34m\u001b[0m\u001b[0;34m\u001b[0m\u001b[0;34m\u001b[0m\u001b[0m\n\u001b[1;32m    192\u001b[0m     \u001b[0;31m# consistently\u001b[0m\u001b[0;34m\u001b[0m\u001b[0;34m\u001b[0m\u001b[0;34m\u001b[0m\u001b[0m\n\u001b[0;32m--> 193\u001b[0;31m     \u001b[0mb\u001b[0m \u001b[0;34m=\u001b[0m \u001b[0mnp\u001b[0m\u001b[0;34m.\u001b[0m\u001b[0mbroadcast\u001b[0m\u001b[0;34m(\u001b[0m\u001b[0;34m*\u001b[0m\u001b[0margs\u001b[0m\u001b[0;34m[\u001b[0m\u001b[0;34m:\u001b[0m\u001b[0;36m32\u001b[0m\u001b[0;34m]\u001b[0m\u001b[0;34m)\u001b[0m\u001b[0;34m\u001b[0m\u001b[0;34m\u001b[0m\u001b[0m\n\u001b[0m\u001b[1;32m    194\u001b[0m     \u001b[0;31m# unfortunately, it cannot handle 32 or more arguments directly\u001b[0m\u001b[0;34m\u001b[0m\u001b[0;34m\u001b[0m\u001b[0;34m\u001b[0m\u001b[0m\n\u001b[1;32m    195\u001b[0m     \u001b[0;32mfor\u001b[0m \u001b[0mpos\u001b[0m \u001b[0;32min\u001b[0m \u001b[0mrange\u001b[0m\u001b[0;34m(\u001b[0m\u001b[0;36m32\u001b[0m\u001b[0;34m,\u001b[0m \u001b[0mlen\u001b[0m\u001b[0;34m(\u001b[0m\u001b[0margs\u001b[0m\u001b[0;34m)\u001b[0m\u001b[0;34m,\u001b[0m \u001b[0;36m31\u001b[0m\u001b[0;34m)\u001b[0m\u001b[0;34m:\u001b[0m\u001b[0;34m\u001b[0m\u001b[0;34m\u001b[0m\u001b[0m\n",
      "\u001b[0;31mValueError\u001b[0m: shape mismatch: objects cannot be broadcast to a single shape"
     ]
    },
    {
     "data": {
      "image/png": "[encoded data removed]",
      "text/plain": [
       "<Figure size 720x576 with 1 Axes>"
      ]
     },
     "metadata": {
      "needs_background": "light"
     },
     "output_type": "display_data"
    }
   ],
   "source": [
    "y=np.diff(n_uniqfid)\n",
    "print(y.mean())\n",
    "x = np.zeros(104)\n",
    "for i in range(104):\n",
    "    x[i] = 3 + i*3\n",
    "    \n",
    "fig = plt.figure(figsize=(10,8))\n",
    "plt.bar(x,height=y)"
   ]
  },
  {
   "cell_type": "code",
   "execution_count": 26,
   "metadata": {},
   "outputs": [
    {
     "name": "stderr",
     "output_type": "stream",
     "text": [
      "/data/lyan/anaconda3/lib/python3.7/site-packages/ipykernel_launcher.py:19: UserWarning: Boolean Series key will be reindexed to match DataFrame index.\n"
     ]
    },
    {
     "data": {
      "text/plain": [
       "array([598., 396., 447., 426., 380., 404., 451., 464., 461., 509., 499.])"
      ]
     },
     "execution_count": 26,
     "metadata": {},
     "output_type": "execute_result"
    }
   ],
   "source": [
    "r_subset = df[df['filterid'] == 2]\n",
    "r_subset2 = r_subset.drop_duplicates(subset='jd',keep='first')\n",
    "dt = r_subset2['jd'] - 2458485.0\n",
    "\n",
    "a = np.zeros(10)\n",
    "b=np.zeros(1)\n",
    "fid = np.array([])\n",
    "for i in range(10):\n",
    "    fid = np.array([])\n",
    "    t0 = 30+i*30\n",
    "    t1 = 30+(i+1)*30\n",
    "    idx = (dt <= t1) & (dt>t0)\n",
    "    fid = np.append(fid,r_subset2[idx].drop_duplicates(subset='fieldid',keep='first')['fieldid'].values)\n",
    "    idx2 = (fid > 0) & (fid < 880)\n",
    "    a[i] = len(fid[idx2])\n",
    "\n",
    "idx1 = dt <= 30.0 \n",
    "fid_unique = r_subset2[idx1].drop_duplicates(subset='fieldid',keep='first')\n",
    "b=len(fid_unique[idx1])\n",
    "month19 = np.concatenate((b,a),axis=None)\n",
    "month19"
   ]
  },
  {
   "cell_type": "code",
   "execution_count": 27,
   "metadata": {},
   "outputs": [
    {
     "data": {
      "text/html": [
       "<div>\n",
       "<style scoped>\n",
       "    .dataframe tbody tr th:only-of-type {\n",
       "        vertical-align: middle;\n",
       "    }\n",
       "\n",
       "    .dataframe tbody tr th {\n",
       "        vertical-align: top;\n",
       "    }\n",
       "\n",
       "    .dataframe thead th {\n",
       "        text-align: right;\n",
       "    }\n",
       "</style>\n",
       "<table border=\"1\" class=\"dataframe\">\n",
       "  <thead>\n",
       "    <tr style=\"text-align: right;\">\n",
       "      <th></th>\n",
       "      <th>fieldid</th>\n",
       "      <th>chid</th>\n",
       "      <th>filterid</th>\n",
       "      <th>expid</th>\n",
       "      <th>jd</th>\n",
       "      <th>exptime</th>\n",
       "      <th>sciinpseeing</th>\n",
       "      <th>limMag</th>\n",
       "      <th>progid</th>\n",
       "      <th>nalertpackets</th>\n",
       "    </tr>\n",
       "  </thead>\n",
       "  <tbody>\n",
       "    <tr>\n",
       "      <th>2645</th>\n",
       "      <td>578</td>\n",
       "      <td>0</td>\n",
       "      <td>2</td>\n",
       "      <td>44331621</td>\n",
       "      <td>2.458198e+06</td>\n",
       "      <td>30</td>\n",
       "      <td>1.9490</td>\n",
       "      <td>19.6341</td>\n",
       "      <td>1</td>\n",
       "      <td></td>\n",
       "    </tr>\n",
       "    <tr>\n",
       "      <th>2813</th>\n",
       "      <td>759</td>\n",
       "      <td>2</td>\n",
       "      <td>2</td>\n",
       "      <td>44340254</td>\n",
       "      <td>2.458198e+06</td>\n",
       "      <td>30</td>\n",
       "      <td>1.7810</td>\n",
       "      <td>20.5736</td>\n",
       "      <td>1</td>\n",
       "      <td></td>\n",
       "    </tr>\n",
       "    <tr>\n",
       "      <th>2831</th>\n",
       "      <td>678</td>\n",
       "      <td>49</td>\n",
       "      <td>2</td>\n",
       "      <td>44341600</td>\n",
       "      <td>2.458198e+06</td>\n",
       "      <td>30</td>\n",
       "      <td>2.3157</td>\n",
       "      <td>19.9688</td>\n",
       "      <td>1</td>\n",
       "      <td></td>\n",
       "    </tr>\n",
       "    <tr>\n",
       "      <th>4141</th>\n",
       "      <td>846</td>\n",
       "      <td>3</td>\n",
       "      <td>2</td>\n",
       "      <td>44436763</td>\n",
       "      <td>2.458199e+06</td>\n",
       "      <td>30</td>\n",
       "      <td>2.3599</td>\n",
       "      <td>20.0383</td>\n",
       "      <td>1</td>\n",
       "      <td></td>\n",
       "    </tr>\n",
       "    <tr>\n",
       "      <th>6273</th>\n",
       "      <td>585</td>\n",
       "      <td>19</td>\n",
       "      <td>2</td>\n",
       "      <td>44441871</td>\n",
       "      <td>2.458199e+06</td>\n",
       "      <td>30</td>\n",
       "      <td>1.9911</td>\n",
       "      <td>20.3662</td>\n",
       "      <td>1</td>\n",
       "      <td></td>\n",
       "    </tr>\n",
       "    <tr>\n",
       "      <th>7218</th>\n",
       "      <td>531</td>\n",
       "      <td>2</td>\n",
       "      <td>2</td>\n",
       "      <td>44443707</td>\n",
       "      <td>2.458199e+06</td>\n",
       "      <td>30</td>\n",
       "      <td>2.0474</td>\n",
       "      <td>20.3881</td>\n",
       "      <td>1</td>\n",
       "      <td></td>\n",
       "    </tr>\n",
       "    <tr>\n",
       "      <th>7538</th>\n",
       "      <td>723</td>\n",
       "      <td>42</td>\n",
       "      <td>2</td>\n",
       "      <td>44445369</td>\n",
       "      <td>2.458199e+06</td>\n",
       "      <td>30</td>\n",
       "      <td>1.4923</td>\n",
       "      <td>20.4344</td>\n",
       "      <td>1</td>\n",
       "      <td></td>\n",
       "    </tr>\n",
       "    <tr>\n",
       "      <th>7564</th>\n",
       "      <td>680</td>\n",
       "      <td>30</td>\n",
       "      <td>2</td>\n",
       "      <td>44445415</td>\n",
       "      <td>2.458199e+06</td>\n",
       "      <td>30</td>\n",
       "      <td>1.5919</td>\n",
       "      <td>20.5878</td>\n",
       "      <td>1</td>\n",
       "      <td></td>\n",
       "    </tr>\n",
       "    <tr>\n",
       "      <th>7838</th>\n",
       "      <td>633</td>\n",
       "      <td>10</td>\n",
       "      <td>2</td>\n",
       "      <td>44445653</td>\n",
       "      <td>2.458199e+06</td>\n",
       "      <td>30</td>\n",
       "      <td>1.8874</td>\n",
       "      <td>20.5034</td>\n",
       "      <td>1</td>\n",
       "      <td></td>\n",
       "    </tr>\n",
       "    <tr>\n",
       "      <th>7973</th>\n",
       "      <td>584</td>\n",
       "      <td>61</td>\n",
       "      <td>2</td>\n",
       "      <td>44445795</td>\n",
       "      <td>2.458199e+06</td>\n",
       "      <td>30</td>\n",
       "      <td>1.9052</td>\n",
       "      <td>20.3273</td>\n",
       "      <td>1</td>\n",
       "      <td></td>\n",
       "    </tr>\n",
       "    <tr>\n",
       "      <th>7974</th>\n",
       "      <td>584</td>\n",
       "      <td>61</td>\n",
       "      <td>2</td>\n",
       "      <td>44446037</td>\n",
       "      <td>2.458199e+06</td>\n",
       "      <td>30</td>\n",
       "      <td>1.8208</td>\n",
       "      <td>20.3714</td>\n",
       "      <td>1</td>\n",
       "      <td></td>\n",
       "    </tr>\n",
       "    <tr>\n",
       "      <th>8046</th>\n",
       "      <td>633</td>\n",
       "      <td>57</td>\n",
       "      <td>2</td>\n",
       "      <td>44446177</td>\n",
       "      <td>2.458199e+06</td>\n",
       "      <td>30</td>\n",
       "      <td>1.8352</td>\n",
       "      <td>20.2342</td>\n",
       "      <td>1</td>\n",
       "      <td></td>\n",
       "    </tr>\n",
       "    <tr>\n",
       "      <th>8198</th>\n",
       "      <td>680</td>\n",
       "      <td>31</td>\n",
       "      <td>2</td>\n",
       "      <td>44446321</td>\n",
       "      <td>2.458199e+06</td>\n",
       "      <td>30</td>\n",
       "      <td>2.1016</td>\n",
       "      <td>20.4807</td>\n",
       "      <td>1</td>\n",
       "      <td></td>\n",
       "    </tr>\n",
       "    <tr>\n",
       "      <th>8820</th>\n",
       "      <td>531</td>\n",
       "      <td>43</td>\n",
       "      <td>2</td>\n",
       "      <td>44447916</td>\n",
       "      <td>2.458199e+06</td>\n",
       "      <td>30</td>\n",
       "      <td>1.6967</td>\n",
       "      <td>20.6033</td>\n",
       "      <td>1</td>\n",
       "      <td></td>\n",
       "    </tr>\n",
       "    <tr>\n",
       "      <th>9145</th>\n",
       "      <td>763</td>\n",
       "      <td>10</td>\n",
       "      <td>2</td>\n",
       "      <td>44448999</td>\n",
       "      <td>2.458199e+06</td>\n",
       "      <td>30</td>\n",
       "      <td>1.4656</td>\n",
       "      <td>20.5308</td>\n",
       "      <td>1</td>\n",
       "      <td></td>\n",
       "    </tr>\n",
       "    <tr>\n",
       "      <th>9161</th>\n",
       "      <td>723</td>\n",
       "      <td>47</td>\n",
       "      <td>2</td>\n",
       "      <td>44449049</td>\n",
       "      <td>2.458199e+06</td>\n",
       "      <td>30</td>\n",
       "      <td>1.3700</td>\n",
       "      <td>20.5815</td>\n",
       "      <td>1</td>\n",
       "      <td></td>\n",
       "    </tr>\n",
       "    <tr>\n",
       "      <th>9187</th>\n",
       "      <td>724</td>\n",
       "      <td>60</td>\n",
       "      <td>2</td>\n",
       "      <td>44449097</td>\n",
       "      <td>2.458199e+06</td>\n",
       "      <td>30</td>\n",
       "      <td>1.6575</td>\n",
       "      <td>20.3877</td>\n",
       "      <td>1</td>\n",
       "      <td></td>\n",
       "    </tr>\n",
       "    <tr>\n",
       "      <th>9259</th>\n",
       "      <td>725</td>\n",
       "      <td>15</td>\n",
       "      <td>2</td>\n",
       "      <td>44449239</td>\n",
       "      <td>2.458199e+06</td>\n",
       "      <td>30</td>\n",
       "      <td>1.5949</td>\n",
       "      <td>20.4686</td>\n",
       "      <td>1</td>\n",
       "      <td></td>\n",
       "    </tr>\n",
       "    <tr>\n",
       "      <th>9291</th>\n",
       "      <td>682</td>\n",
       "      <td>16</td>\n",
       "      <td>2</td>\n",
       "      <td>44449429</td>\n",
       "      <td>2.458199e+06</td>\n",
       "      <td>30</td>\n",
       "      <td>1.6253</td>\n",
       "      <td>20.5897</td>\n",
       "      <td>1</td>\n",
       "      <td></td>\n",
       "    </tr>\n",
       "    <tr>\n",
       "      <th>9371</th>\n",
       "      <td>681</td>\n",
       "      <td>40</td>\n",
       "      <td>2</td>\n",
       "      <td>44449570</td>\n",
       "      <td>2.458199e+06</td>\n",
       "      <td>30</td>\n",
       "      <td>1.5526</td>\n",
       "      <td>20.7077</td>\n",
       "      <td>1</td>\n",
       "      <td></td>\n",
       "    </tr>\n",
       "    <tr>\n",
       "      <th>9557</th>\n",
       "      <td>634</td>\n",
       "      <td>18</td>\n",
       "      <td>2</td>\n",
       "      <td>44449809</td>\n",
       "      <td>2.458199e+06</td>\n",
       "      <td>30</td>\n",
       "      <td>1.4810</td>\n",
       "      <td>20.4087</td>\n",
       "      <td>1</td>\n",
       "      <td></td>\n",
       "    </tr>\n",
       "    <tr>\n",
       "      <th>9564</th>\n",
       "      <td>635</td>\n",
       "      <td>51</td>\n",
       "      <td>2</td>\n",
       "      <td>44449855</td>\n",
       "      <td>2.458199e+06</td>\n",
       "      <td>30</td>\n",
       "      <td>1.4471</td>\n",
       "      <td>20.5737</td>\n",
       "      <td>1</td>\n",
       "      <td></td>\n",
       "    </tr>\n",
       "    <tr>\n",
       "      <th>9638</th>\n",
       "      <td>634</td>\n",
       "      <td>51</td>\n",
       "      <td>2</td>\n",
       "      <td>44450187</td>\n",
       "      <td>2.458199e+06</td>\n",
       "      <td>30</td>\n",
       "      <td>1.4146</td>\n",
       "      <td>20.5812</td>\n",
       "      <td>1</td>\n",
       "      <td></td>\n",
       "    </tr>\n",
       "    <tr>\n",
       "      <th>9645</th>\n",
       "      <td>635</td>\n",
       "      <td>35</td>\n",
       "      <td>2</td>\n",
       "      <td>44450282</td>\n",
       "      <td>2.458199e+06</td>\n",
       "      <td>30</td>\n",
       "      <td>1.5589</td>\n",
       "      <td>20.5959</td>\n",
       "      <td>1</td>\n",
       "      <td></td>\n",
       "    </tr>\n",
       "    <tr>\n",
       "      <th>9655</th>\n",
       "      <td>726</td>\n",
       "      <td>11</td>\n",
       "      <td>2</td>\n",
       "      <td>44450570</td>\n",
       "      <td>2.458199e+06</td>\n",
       "      <td>30</td>\n",
       "      <td>1.4534</td>\n",
       "      <td>20.6133</td>\n",
       "      <td>1</td>\n",
       "      <td></td>\n",
       "    </tr>\n",
       "    <tr>\n",
       "      <th>9713</th>\n",
       "      <td>725</td>\n",
       "      <td>13</td>\n",
       "      <td>2</td>\n",
       "      <td>44450709</td>\n",
       "      <td>2.458199e+06</td>\n",
       "      <td>30</td>\n",
       "      <td>1.4631</td>\n",
       "      <td>20.3781</td>\n",
       "      <td>1</td>\n",
       "      <td></td>\n",
       "    </tr>\n",
       "    <tr>\n",
       "      <th>9744</th>\n",
       "      <td>724</td>\n",
       "      <td>11</td>\n",
       "      <td>2</td>\n",
       "      <td>44450851</td>\n",
       "      <td>2.458199e+06</td>\n",
       "      <td>30</td>\n",
       "      <td>1.6325</td>\n",
       "      <td>20.4343</td>\n",
       "      <td>1</td>\n",
       "      <td></td>\n",
       "    </tr>\n",
       "    <tr>\n",
       "      <th>9809</th>\n",
       "      <td>763</td>\n",
       "      <td>45</td>\n",
       "      <td>2</td>\n",
       "      <td>44451224</td>\n",
       "      <td>2.458199e+06</td>\n",
       "      <td>30</td>\n",
       "      <td>1.5444</td>\n",
       "      <td>20.4298</td>\n",
       "      <td>1</td>\n",
       "      <td></td>\n",
       "    </tr>\n",
       "    <tr>\n",
       "      <th>9860</th>\n",
       "      <td>764</td>\n",
       "      <td>26</td>\n",
       "      <td>2</td>\n",
       "      <td>44451458</td>\n",
       "      <td>2.458199e+06</td>\n",
       "      <td>30</td>\n",
       "      <td>1.4899</td>\n",
       "      <td>20.6992</td>\n",
       "      <td>1</td>\n",
       "      <td></td>\n",
       "    </tr>\n",
       "    <tr>\n",
       "      <th>9895</th>\n",
       "      <td>765</td>\n",
       "      <td>4</td>\n",
       "      <td>2</td>\n",
       "      <td>44451506</td>\n",
       "      <td>2.458199e+06</td>\n",
       "      <td>30</td>\n",
       "      <td>1.6076</td>\n",
       "      <td>20.4921</td>\n",
       "      <td>1</td>\n",
       "      <td></td>\n",
       "    </tr>\n",
       "    <tr>\n",
       "      <th>...</th>\n",
       "      <td>...</td>\n",
       "      <td>...</td>\n",
       "      <td>...</td>\n",
       "      <td>...</td>\n",
       "      <td>...</td>\n",
       "      <td>...</td>\n",
       "      <td>...</td>\n",
       "      <td>...</td>\n",
       "      <td>...</td>\n",
       "      <td>...</td>\n",
       "    </tr>\n",
       "    <tr>\n",
       "      <th>15530527</th>\n",
       "      <td>644</td>\n",
       "      <td>27</td>\n",
       "      <td>2</td>\n",
       "      <td>104108480</td>\n",
       "      <td>2.458796e+06</td>\n",
       "      <td>30</td>\n",
       "      <td>1.5960</td>\n",
       "      <td>19.8601</td>\n",
       "      <td>1</td>\n",
       "      <td>1</td>\n",
       "    </tr>\n",
       "    <tr>\n",
       "      <th>15530591</th>\n",
       "      <td>595</td>\n",
       "      <td>40</td>\n",
       "      <td>2</td>\n",
       "      <td>104108531</td>\n",
       "      <td>2.458796e+06</td>\n",
       "      <td>30</td>\n",
       "      <td>1.5035</td>\n",
       "      <td>19.8902</td>\n",
       "      <td>1</td>\n",
       "      <td>1</td>\n",
       "    </tr>\n",
       "    <tr>\n",
       "      <th>15530655</th>\n",
       "      <td>492</td>\n",
       "      <td>48</td>\n",
       "      <td>2</td>\n",
       "      <td>104108579</td>\n",
       "      <td>2.458796e+06</td>\n",
       "      <td>30</td>\n",
       "      <td>1.6540</td>\n",
       "      <td>19.6125</td>\n",
       "      <td>1</td>\n",
       "      <td>1</td>\n",
       "    </tr>\n",
       "    <tr>\n",
       "      <th>15530719</th>\n",
       "      <td>491</td>\n",
       "      <td>40</td>\n",
       "      <td>2</td>\n",
       "      <td>104108625</td>\n",
       "      <td>2.458796e+06</td>\n",
       "      <td>30</td>\n",
       "      <td>1.9786</td>\n",
       "      <td>19.7294</td>\n",
       "      <td>1</td>\n",
       "      <td>7</td>\n",
       "    </tr>\n",
       "    <tr>\n",
       "      <th>15530783</th>\n",
       "      <td>490</td>\n",
       "      <td>11</td>\n",
       "      <td>2</td>\n",
       "      <td>104108671</td>\n",
       "      <td>2.458796e+06</td>\n",
       "      <td>30</td>\n",
       "      <td>1.4734</td>\n",
       "      <td>19.9323</td>\n",
       "      <td>1</td>\n",
       "      <td>10</td>\n",
       "    </tr>\n",
       "    <tr>\n",
       "      <th>15530847</th>\n",
       "      <td>542</td>\n",
       "      <td>27</td>\n",
       "      <td>2</td>\n",
       "      <td>104108715</td>\n",
       "      <td>2.458796e+06</td>\n",
       "      <td>30</td>\n",
       "      <td>1.6067</td>\n",
       "      <td>20.0255</td>\n",
       "      <td>1</td>\n",
       "      <td>16</td>\n",
       "    </tr>\n",
       "    <tr>\n",
       "      <th>15530911</th>\n",
       "      <td>689</td>\n",
       "      <td>19</td>\n",
       "      <td>2</td>\n",
       "      <td>104108767</td>\n",
       "      <td>2.458796e+06</td>\n",
       "      <td>30</td>\n",
       "      <td>1.6641</td>\n",
       "      <td>19.9375</td>\n",
       "      <td>1</td>\n",
       "      <td>6</td>\n",
       "    </tr>\n",
       "    <tr>\n",
       "      <th>15530975</th>\n",
       "      <td>730</td>\n",
       "      <td>3</td>\n",
       "      <td>2</td>\n",
       "      <td>104108849</td>\n",
       "      <td>2.458796e+06</td>\n",
       "      <td>30</td>\n",
       "      <td>1.7373</td>\n",
       "      <td>19.9193</td>\n",
       "      <td>1</td>\n",
       "      <td>18</td>\n",
       "    </tr>\n",
       "    <tr>\n",
       "      <th>15531039</th>\n",
       "      <td>731</td>\n",
       "      <td>16</td>\n",
       "      <td>2</td>\n",
       "      <td>104108895</td>\n",
       "      <td>2.458796e+06</td>\n",
       "      <td>30</td>\n",
       "      <td>1.5898</td>\n",
       "      <td>20.0329</td>\n",
       "      <td>1</td>\n",
       "      <td>4</td>\n",
       "    </tr>\n",
       "    <tr>\n",
       "      <th>15531103</th>\n",
       "      <td>769</td>\n",
       "      <td>37</td>\n",
       "      <td>2</td>\n",
       "      <td>104108940</td>\n",
       "      <td>2.458796e+06</td>\n",
       "      <td>30</td>\n",
       "      <td>1.3284</td>\n",
       "      <td>20.4566</td>\n",
       "      <td>1</td>\n",
       "      <td>21</td>\n",
       "    </tr>\n",
       "    <tr>\n",
       "      <th>15531166</th>\n",
       "      <td>830</td>\n",
       "      <td>5</td>\n",
       "      <td>2</td>\n",
       "      <td>104108989</td>\n",
       "      <td>2.458796e+06</td>\n",
       "      <td>30</td>\n",
       "      <td>1.8488</td>\n",
       "      <td>20.0184</td>\n",
       "      <td>1</td>\n",
       "      <td>49</td>\n",
       "    </tr>\n",
       "    <tr>\n",
       "      <th>15531230</th>\n",
       "      <td>852</td>\n",
       "      <td>32</td>\n",
       "      <td>2</td>\n",
       "      <td>104109035</td>\n",
       "      <td>2.458796e+06</td>\n",
       "      <td>30</td>\n",
       "      <td>1.5822</td>\n",
       "      <td>20.0121</td>\n",
       "      <td>1</td>\n",
       "      <td>10</td>\n",
       "    </tr>\n",
       "    <tr>\n",
       "      <th>15531294</th>\n",
       "      <td>831</td>\n",
       "      <td>53</td>\n",
       "      <td>2</td>\n",
       "      <td>104109081</td>\n",
       "      <td>2.458796e+06</td>\n",
       "      <td>30</td>\n",
       "      <td>1.3717</td>\n",
       "      <td>20.0500</td>\n",
       "      <td>1</td>\n",
       "      <td>15</td>\n",
       "    </tr>\n",
       "    <tr>\n",
       "      <th>15531358</th>\n",
       "      <td>832</td>\n",
       "      <td>53</td>\n",
       "      <td>2</td>\n",
       "      <td>104109129</td>\n",
       "      <td>2.458796e+06</td>\n",
       "      <td>30</td>\n",
       "      <td>1.3609</td>\n",
       "      <td>19.9195</td>\n",
       "      <td>1</td>\n",
       "      <td>11</td>\n",
       "    </tr>\n",
       "    <tr>\n",
       "      <th>15531613</th>\n",
       "      <td>867</td>\n",
       "      <td>42</td>\n",
       "      <td>2</td>\n",
       "      <td>104109320</td>\n",
       "      <td>2.458796e+06</td>\n",
       "      <td>30</td>\n",
       "      <td>1.6146</td>\n",
       "      <td>19.9005</td>\n",
       "      <td>1</td>\n",
       "      <td>8</td>\n",
       "    </tr>\n",
       "    <tr>\n",
       "      <th>15531677</th>\n",
       "      <td>851</td>\n",
       "      <td>31</td>\n",
       "      <td>2</td>\n",
       "      <td>104109365</td>\n",
       "      <td>2.458796e+06</td>\n",
       "      <td>30</td>\n",
       "      <td>1.8325</td>\n",
       "      <td>19.9480</td>\n",
       "      <td>1</td>\n",
       "      <td>6</td>\n",
       "    </tr>\n",
       "    <tr>\n",
       "      <th>15531741</th>\n",
       "      <td>829</td>\n",
       "      <td>42</td>\n",
       "      <td>2</td>\n",
       "      <td>104109410</td>\n",
       "      <td>2.458796e+06</td>\n",
       "      <td>30</td>\n",
       "      <td>1.8950</td>\n",
       "      <td>19.8857</td>\n",
       "      <td>1</td>\n",
       "      <td>8</td>\n",
       "    </tr>\n",
       "    <tr>\n",
       "      <th>15531805</th>\n",
       "      <td>828</td>\n",
       "      <td>16</td>\n",
       "      <td>2</td>\n",
       "      <td>104109459</td>\n",
       "      <td>2.458796e+06</td>\n",
       "      <td>30</td>\n",
       "      <td>1.5499</td>\n",
       "      <td>20.0788</td>\n",
       "      <td>1</td>\n",
       "      <td>8</td>\n",
       "    </tr>\n",
       "    <tr>\n",
       "      <th>15531933</th>\n",
       "      <td>866</td>\n",
       "      <td>47</td>\n",
       "      <td>2</td>\n",
       "      <td>104109549</td>\n",
       "      <td>2.458796e+06</td>\n",
       "      <td>30</td>\n",
       "      <td>1.7136</td>\n",
       "      <td>19.9666</td>\n",
       "      <td>1</td>\n",
       "      <td>1</td>\n",
       "    </tr>\n",
       "    <tr>\n",
       "      <th>15531996</th>\n",
       "      <td>876</td>\n",
       "      <td>6</td>\n",
       "      <td>2</td>\n",
       "      <td>104109594</td>\n",
       "      <td>2.458796e+06</td>\n",
       "      <td>30</td>\n",
       "      <td>1.6172</td>\n",
       "      <td>19.8794</td>\n",
       "      <td>1</td>\n",
       "      <td>3</td>\n",
       "    </tr>\n",
       "    <tr>\n",
       "      <th>15532101</th>\n",
       "      <td>850</td>\n",
       "      <td>17</td>\n",
       "      <td>2</td>\n",
       "      <td>104109686</td>\n",
       "      <td>2.458796e+06</td>\n",
       "      <td>30</td>\n",
       "      <td>1.7457</td>\n",
       "      <td>19.9469</td>\n",
       "      <td>1</td>\n",
       "      <td>7</td>\n",
       "    </tr>\n",
       "    <tr>\n",
       "      <th>15532229</th>\n",
       "      <td>799</td>\n",
       "      <td>23</td>\n",
       "      <td>2</td>\n",
       "      <td>104109777</td>\n",
       "      <td>2.458796e+06</td>\n",
       "      <td>30</td>\n",
       "      <td>1.6614</td>\n",
       "      <td>20.0475</td>\n",
       "      <td>1</td>\n",
       "      <td>3</td>\n",
       "    </tr>\n",
       "    <tr>\n",
       "      <th>15532293</th>\n",
       "      <td>827</td>\n",
       "      <td>59</td>\n",
       "      <td>2</td>\n",
       "      <td>104109822</td>\n",
       "      <td>2.458796e+06</td>\n",
       "      <td>30</td>\n",
       "      <td>1.6152</td>\n",
       "      <td>19.8973</td>\n",
       "      <td>1</td>\n",
       "      <td>7</td>\n",
       "    </tr>\n",
       "    <tr>\n",
       "      <th>15532357</th>\n",
       "      <td>849</td>\n",
       "      <td>54</td>\n",
       "      <td>2</td>\n",
       "      <td>104109868</td>\n",
       "      <td>2.458796e+06</td>\n",
       "      <td>30</td>\n",
       "      <td>1.5548</td>\n",
       "      <td>19.8308</td>\n",
       "      <td>1</td>\n",
       "      <td>2</td>\n",
       "    </tr>\n",
       "    <tr>\n",
       "      <th>15532420</th>\n",
       "      <td>865</td>\n",
       "      <td>41</td>\n",
       "      <td>2</td>\n",
       "      <td>104109913</td>\n",
       "      <td>2.458796e+06</td>\n",
       "      <td>30</td>\n",
       "      <td>1.7243</td>\n",
       "      <td>19.7598</td>\n",
       "      <td>1</td>\n",
       "      <td>3</td>\n",
       "    </tr>\n",
       "    <tr>\n",
       "      <th>15532675</th>\n",
       "      <td>798</td>\n",
       "      <td>53</td>\n",
       "      <td>2</td>\n",
       "      <td>104110097</td>\n",
       "      <td>2.458796e+06</td>\n",
       "      <td>30</td>\n",
       "      <td>1.6497</td>\n",
       "      <td>19.8183</td>\n",
       "      <td>1</td>\n",
       "      <td>0</td>\n",
       "    </tr>\n",
       "    <tr>\n",
       "      <th>15532803</th>\n",
       "      <td>848</td>\n",
       "      <td>38</td>\n",
       "      <td>2</td>\n",
       "      <td>104110188</td>\n",
       "      <td>2.458796e+06</td>\n",
       "      <td>30</td>\n",
       "      <td>1.6739</td>\n",
       "      <td>19.7962</td>\n",
       "      <td>1</td>\n",
       "      <td>2</td>\n",
       "    </tr>\n",
       "    <tr>\n",
       "      <th>15532867</th>\n",
       "      <td>826</td>\n",
       "      <td>6</td>\n",
       "      <td>2</td>\n",
       "      <td>104110233</td>\n",
       "      <td>2.458796e+06</td>\n",
       "      <td>30</td>\n",
       "      <td>1.5459</td>\n",
       "      <td>19.8863</td>\n",
       "      <td>1</td>\n",
       "      <td>5</td>\n",
       "    </tr>\n",
       "    <tr>\n",
       "      <th>15532995</th>\n",
       "      <td>797</td>\n",
       "      <td>51</td>\n",
       "      <td>2</td>\n",
       "      <td>104110327</td>\n",
       "      <td>2.458796e+06</td>\n",
       "      <td>30</td>\n",
       "      <td>1.5572</td>\n",
       "      <td>19.8643</td>\n",
       "      <td>1</td>\n",
       "      <td>4</td>\n",
       "    </tr>\n",
       "    <tr>\n",
       "      <th>15533059</th>\n",
       "      <td>825</td>\n",
       "      <td>38</td>\n",
       "      <td>2</td>\n",
       "      <td>104110373</td>\n",
       "      <td>2.458796e+06</td>\n",
       "      <td>30</td>\n",
       "      <td>1.6889</td>\n",
       "      <td>19.7407</td>\n",
       "      <td>1</td>\n",
       "      <td>0</td>\n",
       "    </tr>\n",
       "  </tbody>\n",
       "</table>\n",
       "<p>49207 rows × 10 columns</p>\n",
       "</div>"
      ],
      "text/plain": [
       "          fieldid  chid  filterid      expid            jd  exptime  \\\n",
       "2645          578     0         2   44331621  2.458198e+06       30   \n",
       "2813          759     2         2   44340254  2.458198e+06       30   \n",
       "2831          678    49         2   44341600  2.458198e+06       30   \n",
       "4141          846     3         2   44436763  2.458199e+06       30   \n",
       "6273          585    19         2   44441871  2.458199e+06       30   \n",
       "7218          531     2         2   44443707  2.458199e+06       30   \n",
       "7538          723    42         2   44445369  2.458199e+06       30   \n",
       "7564          680    30         2   44445415  2.458199e+06       30   \n",
       "7838          633    10         2   44445653  2.458199e+06       30   \n",
       "7973          584    61         2   44445795  2.458199e+06       30   \n",
       "7974          584    61         2   44446037  2.458199e+06       30   \n",
       "8046          633    57         2   44446177  2.458199e+06       30   \n",
       "8198          680    31         2   44446321  2.458199e+06       30   \n",
       "8820          531    43         2   44447916  2.458199e+06       30   \n",
       "9145          763    10         2   44448999  2.458199e+06       30   \n",
       "9161          723    47         2   44449049  2.458199e+06       30   \n",
       "9187          724    60         2   44449097  2.458199e+06       30   \n",
       "9259          725    15         2   44449239  2.458199e+06       30   \n",
       "9291          682    16         2   44449429  2.458199e+06       30   \n",
       "9371          681    40         2   44449570  2.458199e+06       30   \n",
       "9557          634    18         2   44449809  2.458199e+06       30   \n",
       "9564          635    51         2   44449855  2.458199e+06       30   \n",
       "9638          634    51         2   44450187  2.458199e+06       30   \n",
       "9645          635    35         2   44450282  2.458199e+06       30   \n",
       "9655          726    11         2   44450570  2.458199e+06       30   \n",
       "9713          725    13         2   44450709  2.458199e+06       30   \n",
       "9744          724    11         2   44450851  2.458199e+06       30   \n",
       "9809          763    45         2   44451224  2.458199e+06       30   \n",
       "9860          764    26         2   44451458  2.458199e+06       30   \n",
       "9895          765     4         2   44451506  2.458199e+06       30   \n",
       "...           ...   ...       ...        ...           ...      ...   \n",
       "15530527      644    27         2  104108480  2.458796e+06       30   \n",
       "15530591      595    40         2  104108531  2.458796e+06       30   \n",
       "15530655      492    48         2  104108579  2.458796e+06       30   \n",
       "15530719      491    40         2  104108625  2.458796e+06       30   \n",
       "15530783      490    11         2  104108671  2.458796e+06       30   \n",
       "15530847      542    27         2  104108715  2.458796e+06       30   \n",
       "15530911      689    19         2  104108767  2.458796e+06       30   \n",
       "15530975      730     3         2  104108849  2.458796e+06       30   \n",
       "15531039      731    16         2  104108895  2.458796e+06       30   \n",
       "15531103      769    37         2  104108940  2.458796e+06       30   \n",
       "15531166      830     5         2  104108989  2.458796e+06       30   \n",
       "15531230      852    32         2  104109035  2.458796e+06       30   \n",
       "15531294      831    53         2  104109081  2.458796e+06       30   \n",
       "15531358      832    53         2  104109129  2.458796e+06       30   \n",
       "15531613      867    42         2  104109320  2.458796e+06       30   \n",
       "15531677      851    31         2  104109365  2.458796e+06       30   \n",
       "15531741      829    42         2  104109410  2.458796e+06       30   \n",
       "15531805      828    16         2  104109459  2.458796e+06       30   \n",
       "15531933      866    47         2  104109549  2.458796e+06       30   \n",
       "15531996      876     6         2  104109594  2.458796e+06       30   \n",
       "15532101      850    17         2  104109686  2.458796e+06       30   \n",
       "15532229      799    23         2  104109777  2.458796e+06       30   \n",
       "15532293      827    59         2  104109822  2.458796e+06       30   \n",
       "15532357      849    54         2  104109868  2.458796e+06       30   \n",
       "15532420      865    41         2  104109913  2.458796e+06       30   \n",
       "15532675      798    53         2  104110097  2.458796e+06       30   \n",
       "15532803      848    38         2  104110188  2.458796e+06       30   \n",
       "15532867      826     6         2  104110233  2.458796e+06       30   \n",
       "15532995      797    51         2  104110327  2.458796e+06       30   \n",
       "15533059      825    38         2  104110373  2.458796e+06       30   \n",
       "\n",
       "          sciinpseeing   limMag  progid    nalertpackets  \n",
       "2645            1.9490  19.6341       1                   \n",
       "2813            1.7810  20.5736       1                   \n",
       "2831            2.3157  19.9688       1                   \n",
       "4141            2.3599  20.0383       1                   \n",
       "6273            1.9911  20.3662       1                   \n",
       "7218            2.0474  20.3881       1                   \n",
       "7538            1.4923  20.4344       1                   \n",
       "7564            1.5919  20.5878       1                   \n",
       "7838            1.8874  20.5034       1                   \n",
       "7973            1.9052  20.3273       1                   \n",
       "7974            1.8208  20.3714       1                   \n",
       "8046            1.8352  20.2342       1                   \n",
       "8198            2.1016  20.4807       1                   \n",
       "8820            1.6967  20.6033       1                   \n",
       "9145            1.4656  20.5308       1                   \n",
       "9161            1.3700  20.5815       1                   \n",
       "9187            1.6575  20.3877       1                   \n",
       "9259            1.5949  20.4686       1                   \n",
       "9291            1.6253  20.5897       1                   \n",
       "9371            1.5526  20.7077       1                   \n",
       "9557            1.4810  20.4087       1                   \n",
       "9564            1.4471  20.5737       1                   \n",
       "9638            1.4146  20.5812       1                   \n",
       "9645            1.5589  20.5959       1                   \n",
       "9655            1.4534  20.6133       1                   \n",
       "9713            1.4631  20.3781       1                   \n",
       "9744            1.6325  20.4343       1                   \n",
       "9809            1.5444  20.4298       1                   \n",
       "9860            1.4899  20.6992       1                   \n",
       "9895            1.6076  20.4921       1                   \n",
       "...                ...      ...     ...              ...  \n",
       "15530527        1.5960  19.8601       1                1  \n",
       "15530591        1.5035  19.8902       1                1  \n",
       "15530655        1.6540  19.6125       1                1  \n",
       "15530719        1.9786  19.7294       1                7  \n",
       "15530783        1.4734  19.9323       1               10  \n",
       "15530847        1.6067  20.0255       1               16  \n",
       "15530911        1.6641  19.9375       1                6  \n",
       "15530975        1.7373  19.9193       1               18  \n",
       "15531039        1.5898  20.0329       1                4  \n",
       "15531103        1.3284  20.4566       1               21  \n",
       "15531166        1.8488  20.0184       1               49  \n",
       "15531230        1.5822  20.0121       1               10  \n",
       "15531294        1.3717  20.0500       1               15  \n",
       "15531358        1.3609  19.9195       1               11  \n",
       "15531613        1.6146  19.9005       1                8  \n",
       "15531677        1.8325  19.9480       1                6  \n",
       "15531741        1.8950  19.8857       1                8  \n",
       "15531805        1.5499  20.0788       1                8  \n",
       "15531933        1.7136  19.9666       1                1  \n",
       "15531996        1.6172  19.8794       1                3  \n",
       "15532101        1.7457  19.9469       1               7   \n",
       "15532229        1.6614  20.0475       1               3   \n",
       "15532293        1.6152  19.8973       1               7   \n",
       "15532357        1.5548  19.8308       1               2   \n",
       "15532420        1.7243  19.7598       1               3   \n",
       "15532675        1.6497  19.8183       1               0   \n",
       "15532803        1.6739  19.7962       1               2   \n",
       "15532867        1.5459  19.8863       1               5   \n",
       "15532995        1.5572  19.8643       1               4   \n",
       "15533059        1.6889  19.7407       1               0   \n",
       "\n",
       "[49207 rows x 10 columns]"
      ]
     },
     "execution_count": 27,
     "metadata": {},
     "output_type": "execute_result"
    }
   ],
   "source": [
    "r_subset2"
   ]
  },
  {
   "cell_type": "code",
   "execution_count": 28,
   "metadata": {},
   "outputs": [],
   "source": [
    "idx1 = dt <= 30.0 \n",
    "fid_unique = r_subset2[idx1].drop_duplicates(subset='fieldid',keep='first')\n",
    "idx2 = (dt >30) & (dt <=60)\n",
    "fid2 = r_subset2[idx2].drop_duplicates(subset='fieldid',keep='first')\n",
    "idx3 = (dt >60) & (dt <=90)\n",
    "fid3 = r_subset2[idx3].drop_duplicates(subset='fieldid',keep='first')\n",
    "idx4 = (dt >90) & (dt <=120)\n",
    "fid4 = r_subset2[idx4].drop_duplicates(subset='fieldid',keep='first')\n",
    "idx5 = (dt>120) & (dt<=150)\n",
    "fid5 = r_subset2[idx5].drop_duplicates(subset='fieldid',keep='first')\n",
    "idx6 = (dt>150) & (dt<=180)\n",
    "fid6 = r_subset2[idx6].drop_duplicates(subset='fieldid',keep='first')\n",
    "idx7 = (dt>180) & (dt<=210)\n",
    "idx8 = (dt>210) & (dt<=240)\n",
    "idx9 = (dt>240) & (dt<=270)\n",
    "idx10 = (dt>270) & (dt <=300)\n",
    "idx11 = (dt>300) & (dt<=330)\n",
    "fid7 = r_subset2[idx7].drop_duplicates(subset='fieldid',keep='first')\n",
    "fid8 = r_subset2[idx8].drop_duplicates(subset='fieldid',keep='first')\n",
    "fid9 = r_subset2[idx9].drop_duplicates(subset='fieldid',keep='first')\n",
    "fid10 = r_subset2[idx10].drop_duplicates(subset='fieldid',keep='first')\n",
    "fid11 = r_subset2[idx11].drop_duplicates(subset='fieldid',keep='first')"
   ]
  },
  {
   "cell_type": "code",
   "execution_count": 35,
   "metadata": {},
   "outputs": [],
   "source": [
    "common12 = np.intersect1d(fid_unique['fieldid'].values,fid2['fieldid'].values)\n",
    "common123 = np.intersect1d(fid3['fieldid'].values,fid11['fieldid'].values)\n",
    "common23 = np.intersect1d(fid2['fieldid'].values,fid3['fieldid'].values)\n",
    "common34 = np.intersect1d(fid3['fieldid'].values,fid4['fieldid'].values)\n",
    "common45 = np.intersect1d(fid4['fieldid'].values,fid5['fieldid'].values)\n",
    "common56 = np.intersect1d(fid5['fieldid'].values,fid6['fieldid'].values)\n",
    "common67 = np.intersect1d(fid6['fieldid'].values,fid7['fieldid'].values)\n",
    "common78 = np.intersect1d(fid7['fieldid'].values,fid8['fieldid'].values)\n",
    "common89 = np.intersect1d(fid8['fieldid'].values,fid9['fieldid'].values)\n",
    "common234 = np.intersect1d(common23,fid4['fieldid'].values)\n",
    "common345 = np.intersect1d(common34,fid5['fieldid'].values)\n",
    "common456 = np.intersect1d(common45,fid6['fieldid'].values)\n",
    "common567 = np.intersect1d(common56,fid7['fieldid'].values)\n",
    "common678 = np.intersect1d(common67,fid8['fieldid'].values)\n",
    "common789 = np.intersect1d(common78,fid9['fieldid'].values)\n",
    "common8910 = np.intersect1d(common89,fid10['fieldid'].values)\n",
    "#common45 = np.intersect1d(fid4['fieldid'].values,fid6['fieldid'].values)"
   ]
  },
  {
   "cell_type": "code",
   "execution_count": 30,
   "metadata": {},
   "outputs": [
    {
     "name": "stdout",
     "output_type": "stream",
     "text": [
      "598.0\n"
     ]
    },
    {
     "data": {
      "text/plain": [
       "(None,)"
      ]
     },
     "execution_count": 30,
     "metadata": {},
     "output_type": "execute_result"
    }
   ],
   "source": [
    "print(month19[0]),\n",
    "#len(common1),len(common123),len(common1234),len(common1t5),len(common1t6)"
   ]
  },
  {
   "cell_type": "code",
   "execution_count": 36,
   "metadata": {},
   "outputs": [
    {
     "data": {
      "text/plain": [
       "(300, 370)"
      ]
     },
     "execution_count": 36,
     "metadata": {},
     "output_type": "execute_result"
    },
    {
     "data": {
      "image/png": "[encoded data removed]",
      "text/plain": [
       "<Figure size 792x648 with 1 Axes>"
      ]
     },
     "metadata": {
      "needs_background": "light"
     },
     "output_type": "display_data"
    }
   ],
   "source": [
    "x = np.arange(len(fid_unique['fieldid']))\n",
    "x1 = np.arange(len(fid2['fieldid']))\n",
    "x2= np.arange(len(fid3['fieldid']))\n",
    "fig = plt.figure(figsize=(11,9))\n",
    "plt.plot(fid_unique['fieldid'].values,fid_unique['fieldid'].values,'r.')\n",
    "plt.plot(fid2['fieldid'].values,fid2['fieldid'].values,'bo',markersize=14,markerfacecolor='none')\n",
    "plt.plot(fid3['fieldid'].values,fid3['fieldid'].values,'g+')\n",
    "#x=(fid2['fieldid']<880)\n",
    "#len(fid2[x])\n",
    "plt.ylim(300,370)\n",
    "plt.xlim(300,370)"
   ]
  },
  {
   "cell_type": "code",
   "execution_count": null,
   "metadata": {},
   "outputs": [],
   "source": []
  },
  {
   "cell_type": "code",
   "execution_count": 37,
   "metadata": {
    "scrolled": false
   },
   "outputs": [
    {
     "data": {
      "text/plain": [
       "(0, 600)"
      ]
     },
     "execution_count": 37,
     "metadata": {},
     "output_type": "execute_result"
    },
    {
     "data": {
      "image/png": "[encoded data removed]",
      "text/plain": [
       "<Figure size 720x576 with 1 Axes>"
      ]
     },
     "metadata": {
      "needs_background": "light"
     },
     "output_type": "display_data"
    }
   ],
   "source": [
    "fig = plt.figure(figsize=(10,8))\n",
    "x = np.array([1,2,3,4,5,6,7,8,9,10,11])\n",
    "x1=np.array([3,4,5,6,7,8,9,10])\n",
    "#x2 = np.array([1,3,5])\n",
    "#common =np.array([502,len(common12),len(common123),len(common1234),len(common1t5),len(common1t6)])\n",
    "common = np.array([len(common123),len(common234),len(common345),len(common456),len(common567),len(common678),len(common789),len(common8910)])\n",
    "#common_sub = np.array([502,len(common)])\n",
    "plt.bar(x,height=month19,label='No. of field per month, r-band',alpha=0.5)\n",
    "plt.bar(x1,height=common,label='Common fields within 100d',hatch='///',color='y')\n",
    "plt.legend(loc='upper left',frameon=False,fontsize=14)\n",
    "plt.ylim(0,600)"
   ]
  },
  {
   "cell_type": "code",
   "execution_count": 38,
   "metadata": {
    "scrolled": false
   },
   "outputs": [
    {
     "ename": "SyntaxError",
     "evalue": "invalid syntax (<ipython-input-38-e214b207158f>, line 2)",
     "output_type": "error",
     "traceback": [
      "\u001b[0;36m  File \u001b[0;32m\"<ipython-input-38-e214b207158f>\"\u001b[0;36m, line \u001b[0;32m2\u001b[0m\n\u001b[0;31m    subset = plot_data.drop_duplicates(subset='jd',keep='first')\u001b[0m\n\u001b[0m         ^\u001b[0m\n\u001b[0;31mSyntaxError\u001b[0m\u001b[0;31m:\u001b[0m invalid syntax\n"
     ]
    }
   ],
   "source": [
    "plot_data = df[df['fieldid'] == fid\n",
    "subset = plot_data.drop_duplicates(subset='jd',keep='first')\n",
    "dtime = (subset['jd'][subset['filterid'] == 1] - 2458485.0)\n",
    "fig = plt.figure(figsize=(11,8))\n",
    "plt.hist(dtime,bins=300)\n",
    "plt.xlabel('Time')\n",
    "#plt.xlim(150,170)"
   ]
  },
  {
   "cell_type": "code",
   "execution_count": null,
   "metadata": {
    "scrolled": true
   },
   "outputs": [],
   "source": []
  },
  {
   "cell_type": "code",
   "execution_count": 40,
   "metadata": {},
   "outputs": [
    {
     "data": {
      "image/png": "[encoded data removed]",
      "text/plain": [
       "<Figure size 864x864 with 3 Axes>"
      ]
     },
     "metadata": {
      "needs_background": "light"
     },
     "output_type": "display_data"
    }
   ],
   "source": [
    "fig,(ax1,ax2,ax3) = plt.subplots(3,sharex=True,figsize=(12,12))\n",
    "ax1.plot(cad['fieldid'].values,cad['total'].values,'r.')\n",
    "ax2.plot(cad['fieldid'].values,cad['Nogt10d'].values,'b*')\n",
    "ax3.plot(cad['fieldid'].values,cad['maxdt'].values,'g.')\n",
    "plt.subplots_adjust(hspace=0)"
   ]
  },
  {
   "cell_type": "code",
   "execution_count": 41,
   "metadata": {},
   "outputs": [
    {
     "name": "stdout",
     "output_type": "stream",
     "text": [
      "9 9\n"
     ]
    }
   ],
   "source": [
    "#dtime[dtime<1]\n",
    "ht1 = len(dtime[dtime<=2])\n",
    "ht2 = len(dtime[(dtime<=3)])\n",
    "ht3 = len(dtime[(dtime>3) & (dtime<=5)])\n",
    "ht4 = len(dtime[(dtime>5) & (dtime<=7)])\n",
    "ht5 = len(dtime[(dtime>7) & (dtime<=9)])\n",
    "ht6 = len(dtime[(dtime>9) & (dtime<=11)])\n",
    "print(ht1,ht2)"
   ]
  },
  {
   "cell_type": "code",
   "execution_count": 42,
   "metadata": {},
   "outputs": [
    {
     "ename": "PermissionError",
     "evalue": "[Errno 13] Permission denied: '/data/lyan/simsurvey/figures/cadence.pdf'",
     "output_type": "error",
     "traceback": [
      "\u001b[0;31m---------------------------------------------------------------------------\u001b[0m",
      "\u001b[0;31mPermissionError\u001b[0m                           Traceback (most recent call last)",
      "\u001b[0;32m<ipython-input-42-dbb547166aa4>\u001b[0m in \u001b[0;36m<module>\u001b[0;34m()\u001b[0m\n\u001b[1;32m     10\u001b[0m \u001b[0mplt\u001b[0m\u001b[0;34m.\u001b[0m\u001b[0mxlabel\u001b[0m\u001b[0;34m(\u001b[0m\u001b[0;34mr'$\\Delta$t between two adjacent exposures'\u001b[0m\u001b[0;34m,\u001b[0m\u001b[0mfontsize\u001b[0m\u001b[0;34m=\u001b[0m\u001b[0;36m14\u001b[0m\u001b[0;34m)\u001b[0m\u001b[0;34m\u001b[0m\u001b[0;34m\u001b[0m\u001b[0m\n\u001b[1;32m     11\u001b[0m \u001b[0mplt\u001b[0m\u001b[0;34m.\u001b[0m\u001b[0mylabel\u001b[0m\u001b[0;34m(\u001b[0m\u001b[0;34m'Percentage of the observations'\u001b[0m\u001b[0;34m,\u001b[0m\u001b[0mfontsize\u001b[0m\u001b[0;34m=\u001b[0m\u001b[0;36m14\u001b[0m\u001b[0;34m)\u001b[0m\u001b[0;34m\u001b[0m\u001b[0;34m\u001b[0m\u001b[0m\n\u001b[0;32m---> 12\u001b[0;31m \u001b[0mplt\u001b[0m\u001b[0;34m.\u001b[0m\u001b[0msavefig\u001b[0m\u001b[0;34m(\u001b[0m\u001b[0;34m'/data/lyan/simsurvey/figures/cadence.pdf'\u001b[0m\u001b[0;34m)\u001b[0m\u001b[0;34m\u001b[0m\u001b[0;34m\u001b[0m\u001b[0m\n\u001b[0m",
      "\u001b[0;32m/data/lyan/anaconda3/lib/python3.7/site-packages/matplotlib/pyplot.py\u001b[0m in \u001b[0;36msavefig\u001b[0;34m(*args, **kwargs)\u001b[0m\n\u001b[1;32m    687\u001b[0m \u001b[0;32mdef\u001b[0m \u001b[0msavefig\u001b[0m\u001b[0;34m(\u001b[0m\u001b[0;34m*\u001b[0m\u001b[0margs\u001b[0m\u001b[0;34m,\u001b[0m \u001b[0;34m**\u001b[0m\u001b[0mkwargs\u001b[0m\u001b[0;34m)\u001b[0m\u001b[0;34m:\u001b[0m\u001b[0;34m\u001b[0m\u001b[0;34m\u001b[0m\u001b[0m\n\u001b[1;32m    688\u001b[0m     \u001b[0mfig\u001b[0m \u001b[0;34m=\u001b[0m \u001b[0mgcf\u001b[0m\u001b[0;34m(\u001b[0m\u001b[0;34m)\u001b[0m\u001b[0;34m\u001b[0m\u001b[0;34m\u001b[0m\u001b[0m\n\u001b[0;32m--> 689\u001b[0;31m     \u001b[0mres\u001b[0m \u001b[0;34m=\u001b[0m \u001b[0mfig\u001b[0m\u001b[0;34m.\u001b[0m\u001b[0msavefig\u001b[0m\u001b[0;34m(\u001b[0m\u001b[0;34m*\u001b[0m\u001b[0margs\u001b[0m\u001b[0;34m,\u001b[0m \u001b[0;34m**\u001b[0m\u001b[0mkwargs\u001b[0m\u001b[0;34m)\u001b[0m\u001b[0;34m\u001b[0m\u001b[0;34m\u001b[0m\u001b[0m\n\u001b[0m\u001b[1;32m    690\u001b[0m     \u001b[0mfig\u001b[0m\u001b[0;34m.\u001b[0m\u001b[0mcanvas\u001b[0m\u001b[0;34m.\u001b[0m\u001b[0mdraw_idle\u001b[0m\u001b[0;34m(\u001b[0m\u001b[0;34m)\u001b[0m   \u001b[0;31m# need this if 'transparent=True' to reset colors\u001b[0m\u001b[0;34m\u001b[0m\u001b[0;34m\u001b[0m\u001b[0m\n\u001b[1;32m    691\u001b[0m     \u001b[0;32mreturn\u001b[0m \u001b[0mres\u001b[0m\u001b[0;34m\u001b[0m\u001b[0;34m\u001b[0m\u001b[0m\n",
      "\u001b[0;32m/data/lyan/anaconda3/lib/python3.7/site-packages/matplotlib/figure.py\u001b[0m in \u001b[0;36msavefig\u001b[0;34m(self, fname, frameon, transparent, **kwargs)\u001b[0m\n\u001b[1;32m   2092\u001b[0m             \u001b[0mself\u001b[0m\u001b[0;34m.\u001b[0m\u001b[0mset_frameon\u001b[0m\u001b[0;34m(\u001b[0m\u001b[0mframeon\u001b[0m\u001b[0;34m)\u001b[0m\u001b[0;34m\u001b[0m\u001b[0;34m\u001b[0m\u001b[0m\n\u001b[1;32m   2093\u001b[0m \u001b[0;34m\u001b[0m\u001b[0m\n\u001b[0;32m-> 2094\u001b[0;31m         \u001b[0mself\u001b[0m\u001b[0;34m.\u001b[0m\u001b[0mcanvas\u001b[0m\u001b[0;34m.\u001b[0m\u001b[0mprint_figure\u001b[0m\u001b[0;34m(\u001b[0m\u001b[0mfname\u001b[0m\u001b[0;34m,\u001b[0m \u001b[0;34m**\u001b[0m\u001b[0mkwargs\u001b[0m\u001b[0;34m)\u001b[0m\u001b[0;34m\u001b[0m\u001b[0;34m\u001b[0m\u001b[0m\n\u001b[0m\u001b[1;32m   2095\u001b[0m \u001b[0;34m\u001b[0m\u001b[0m\n\u001b[1;32m   2096\u001b[0m         \u001b[0;32mif\u001b[0m \u001b[0mframeon\u001b[0m\u001b[0;34m:\u001b[0m\u001b[0;34m\u001b[0m\u001b[0;34m\u001b[0m\u001b[0m\n",
      "\u001b[0;32m/data/lyan/anaconda3/lib/python3.7/site-packages/matplotlib/backend_bases.py\u001b[0m in \u001b[0;36mprint_figure\u001b[0;34m(self, filename, dpi, facecolor, edgecolor, orientation, format, bbox_inches, **kwargs)\u001b[0m\n\u001b[1;32m   2073\u001b[0m                     \u001b[0morientation\u001b[0m\u001b[0;34m=\u001b[0m\u001b[0morientation\u001b[0m\u001b[0;34m,\u001b[0m\u001b[0;34m\u001b[0m\u001b[0;34m\u001b[0m\u001b[0m\n\u001b[1;32m   2074\u001b[0m                     \u001b[0mbbox_inches_restore\u001b[0m\u001b[0;34m=\u001b[0m\u001b[0m_bbox_inches_restore\u001b[0m\u001b[0;34m,\u001b[0m\u001b[0;34m\u001b[0m\u001b[0;34m\u001b[0m\u001b[0m\n\u001b[0;32m-> 2075\u001b[0;31m                     **kwargs)\n\u001b[0m\u001b[1;32m   2076\u001b[0m             \u001b[0;32mfinally\u001b[0m\u001b[0;34m:\u001b[0m\u001b[0;34m\u001b[0m\u001b[0;34m\u001b[0m\u001b[0m\n\u001b[1;32m   2077\u001b[0m                 \u001b[0;32mif\u001b[0m \u001b[0mbbox_inches\u001b[0m \u001b[0;32mand\u001b[0m \u001b[0mrestore_bbox\u001b[0m\u001b[0;34m:\u001b[0m\u001b[0;34m\u001b[0m\u001b[0;34m\u001b[0m\u001b[0m\n",
      "\u001b[0;32m/data/lyan/anaconda3/lib/python3.7/site-packages/matplotlib/backends/backend_pdf.py\u001b[0m in \u001b[0;36mprint_pdf\u001b[0;34m(self, filename, dpi, bbox_inches_restore, metadata, **kwargs)\u001b[0m\n\u001b[1;32m   2556\u001b[0m             \u001b[0mfile\u001b[0m \u001b[0;34m=\u001b[0m \u001b[0mfilename\u001b[0m\u001b[0;34m.\u001b[0m\u001b[0m_file\u001b[0m\u001b[0;34m\u001b[0m\u001b[0;34m\u001b[0m\u001b[0m\n\u001b[1;32m   2557\u001b[0m         \u001b[0;32melse\u001b[0m\u001b[0;34m:\u001b[0m\u001b[0;34m\u001b[0m\u001b[0;34m\u001b[0m\u001b[0m\n\u001b[0;32m-> 2558\u001b[0;31m             \u001b[0mfile\u001b[0m \u001b[0;34m=\u001b[0m \u001b[0mPdfFile\u001b[0m\u001b[0;34m(\u001b[0m\u001b[0mfilename\u001b[0m\u001b[0;34m,\u001b[0m \u001b[0mmetadata\u001b[0m\u001b[0;34m=\u001b[0m\u001b[0mmetadata\u001b[0m\u001b[0;34m)\u001b[0m\u001b[0;34m\u001b[0m\u001b[0;34m\u001b[0m\u001b[0m\n\u001b[0m\u001b[1;32m   2559\u001b[0m         \u001b[0;32mtry\u001b[0m\u001b[0;34m:\u001b[0m\u001b[0;34m\u001b[0m\u001b[0;34m\u001b[0m\u001b[0m\n\u001b[1;32m   2560\u001b[0m             \u001b[0mfile\u001b[0m\u001b[0;34m.\u001b[0m\u001b[0mnewPage\u001b[0m\u001b[0;34m(\u001b[0m\u001b[0mwidth\u001b[0m\u001b[0;34m,\u001b[0m \u001b[0mheight\u001b[0m\u001b[0;34m)\u001b[0m\u001b[0;34m\u001b[0m\u001b[0;34m\u001b[0m\u001b[0m\n",
      "\u001b[0;32m/data/lyan/anaconda3/lib/python3.7/site-packages/matplotlib/backends/backend_pdf.py\u001b[0m in \u001b[0;36m__init__\u001b[0;34m(self, filename, metadata)\u001b[0m\n\u001b[1;32m    431\u001b[0m         \u001b[0mself\u001b[0m\u001b[0;34m.\u001b[0m\u001b[0moriginal_file_like\u001b[0m \u001b[0;34m=\u001b[0m \u001b[0;32mNone\u001b[0m\u001b[0;34m\u001b[0m\u001b[0;34m\u001b[0m\u001b[0m\n\u001b[1;32m    432\u001b[0m         \u001b[0mself\u001b[0m\u001b[0;34m.\u001b[0m\u001b[0mtell_base\u001b[0m \u001b[0;34m=\u001b[0m \u001b[0;36m0\u001b[0m\u001b[0;34m\u001b[0m\u001b[0;34m\u001b[0m\u001b[0m\n\u001b[0;32m--> 433\u001b[0;31m         \u001b[0mfh\u001b[0m\u001b[0;34m,\u001b[0m \u001b[0mopened\u001b[0m \u001b[0;34m=\u001b[0m \u001b[0mcbook\u001b[0m\u001b[0;34m.\u001b[0m\u001b[0mto_filehandle\u001b[0m\u001b[0;34m(\u001b[0m\u001b[0mfilename\u001b[0m\u001b[0;34m,\u001b[0m \u001b[0;34m\"wb\"\u001b[0m\u001b[0;34m,\u001b[0m \u001b[0mreturn_opened\u001b[0m\u001b[0;34m=\u001b[0m\u001b[0;32mTrue\u001b[0m\u001b[0;34m)\u001b[0m\u001b[0;34m\u001b[0m\u001b[0;34m\u001b[0m\u001b[0m\n\u001b[0m\u001b[1;32m    434\u001b[0m         \u001b[0;32mif\u001b[0m \u001b[0;32mnot\u001b[0m \u001b[0mopened\u001b[0m\u001b[0;34m:\u001b[0m\u001b[0;34m\u001b[0m\u001b[0;34m\u001b[0m\u001b[0m\n\u001b[1;32m    435\u001b[0m             \u001b[0;32mtry\u001b[0m\u001b[0;34m:\u001b[0m\u001b[0;34m\u001b[0m\u001b[0;34m\u001b[0m\u001b[0m\n",
      "\u001b[0;32m/data/lyan/anaconda3/lib/python3.7/site-packages/matplotlib/cbook/__init__.py\u001b[0m in \u001b[0;36mto_filehandle\u001b[0;34m(fname, flag, return_opened, encoding)\u001b[0m\n\u001b[1;32m    390\u001b[0m             \u001b[0mfh\u001b[0m \u001b[0;34m=\u001b[0m \u001b[0mbz2\u001b[0m\u001b[0;34m.\u001b[0m\u001b[0mBZ2File\u001b[0m\u001b[0;34m(\u001b[0m\u001b[0mfname\u001b[0m\u001b[0;34m,\u001b[0m \u001b[0mflag\u001b[0m\u001b[0;34m)\u001b[0m\u001b[0;34m\u001b[0m\u001b[0;34m\u001b[0m\u001b[0m\n\u001b[1;32m    391\u001b[0m         \u001b[0;32melse\u001b[0m\u001b[0;34m:\u001b[0m\u001b[0;34m\u001b[0m\u001b[0;34m\u001b[0m\u001b[0m\n\u001b[0;32m--> 392\u001b[0;31m             \u001b[0mfh\u001b[0m \u001b[0;34m=\u001b[0m \u001b[0mopen\u001b[0m\u001b[0;34m(\u001b[0m\u001b[0mfname\u001b[0m\u001b[0;34m,\u001b[0m \u001b[0mflag\u001b[0m\u001b[0;34m,\u001b[0m \u001b[0mencoding\u001b[0m\u001b[0;34m=\u001b[0m\u001b[0mencoding\u001b[0m\u001b[0;34m)\u001b[0m\u001b[0;34m\u001b[0m\u001b[0;34m\u001b[0m\u001b[0m\n\u001b[0m\u001b[1;32m    393\u001b[0m         \u001b[0mopened\u001b[0m \u001b[0;34m=\u001b[0m \u001b[0;32mTrue\u001b[0m\u001b[0;34m\u001b[0m\u001b[0;34m\u001b[0m\u001b[0m\n\u001b[1;32m    394\u001b[0m     \u001b[0;32melif\u001b[0m \u001b[0mhasattr\u001b[0m\u001b[0;34m(\u001b[0m\u001b[0mfname\u001b[0m\u001b[0;34m,\u001b[0m \u001b[0;34m'seek'\u001b[0m\u001b[0;34m)\u001b[0m\u001b[0;34m:\u001b[0m\u001b[0;34m\u001b[0m\u001b[0;34m\u001b[0m\u001b[0m\n",
      "\u001b[0;31mPermissionError\u001b[0m: [Errno 13] Permission denied: '/data/lyan/simsurvey/figures/cadence.pdf'"
     ]
    },
    {
     "data": {
      "image/png": "[encoded data removed]",
      "text/plain": [
       "<Figure size 504x360 with 1 Axes>"
      ]
     },
     "metadata": {
      "needs_background": "light"
     },
     "output_type": "display_data"
    }
   ],
   "source": [
    "\n",
    "a = np.array([2,4,6,8,10])\n",
    "b = np.array([ht2,ht3,ht4,ht5,ht6])\n",
    "wts = np.ones_like(dtime)/float(len(dtime))\n",
    "fig = plt.figure(figsize=(7,5))\n",
    "#plt.hist(dtime,weights=wts,bins=250)\n",
    "plt.bar(a,b/float(len(dtime)),width=2)\n",
    "plt.xlim(0,12)\n",
    "#plt.yscale('log')\n",
    "plt.xlabel(r'$\\Delta$t between two adjacent exposures',fontsize=14)\n",
    "plt.ylabel('Percentage of the observations',fontsize=14)\n",
    "plt.savefig('/data/lyan/simsurvey/figures/cadence.pdf')"
   ]
  },
  {
   "cell_type": "code",
   "execution_count": 43,
   "metadata": {},
   "outputs": [],
   "source": [
    "## distribution of fields per months\n",
    "primefid = df[df['fieldid'] < 881]\n",
    "ptime  = primefid.drop_duplicates(subset=['jd'],keep='first')"
   ]
  },
  {
   "cell_type": "code",
   "execution_count": 44,
   "metadata": {},
   "outputs": [],
   "source": [
    "month19 = (ptime['jd'] - 2458485.0)/30.0\n",
    "idx = month19 < 1.0\n"
   ]
  },
  {
   "cell_type": "code",
   "execution_count": 45,
   "metadata": {},
   "outputs": [
    {
     "data": {
      "text/plain": [
       "Text(0, 0.5, 'Days in 2019')"
      ]
     },
     "execution_count": 45,
     "metadata": {},
     "output_type": "execute_result"
    },
    {
     "data": {
      "image/png": "[encoded data removed]",
      "text/plain": [
       "<Figure size 720x576 with 1 Axes>"
      ]
     },
     "metadata": {
      "needs_background": "light"
     },
     "output_type": "display_data"
    }
   ],
   "source": [
    "fig = plt.figure(figsize=(10,8))\n",
    "plt.plot(primefid['fieldid'].values,primefid['jd']-2458485.0,'r.',alpha=0.5)\n",
    "plt.xlabel('Field ID')\n",
    "plt.ylabel('Days in 2019')\n",
    "#plt.ylim(1,4)\n",
    "#plt.xlim(240,360)"
   ]
  },
  {
   "cell_type": "code",
   "execution_count": 46,
   "metadata": {},
   "outputs": [
    {
     "name": "stdout",
     "output_type": "stream",
     "text": [
      "2478\n"
     ]
    }
   ],
   "source": [
    "idx = (month19 > 1) & (month19 <=2)\n",
    "print(len(ptime[idx]))"
   ]
  },
  {
   "cell_type": "code",
   "execution_count": 47,
   "metadata": {},
   "outputs": [],
   "source": [
    "a = np.array([0,1,2,3,4,5,6,7,8,9,10,11])\n",
    "d = np.histogram(month19,bins=a)\n",
    "ht = d[0]\n",
    "x = np.array([1,2,3,4,5,6,7,8,9,10,11])"
   ]
  },
  {
   "cell_type": "code",
   "execution_count": 48,
   "metadata": {},
   "outputs": [],
   "source": [
    "tenday = (ptime['jd'] - 2458485.0)/30.0\n",
    "a = np.array([0,1,2,3,4,5,6,7,8,9,10,11,12,13,14,15,16,17,18,19,20,21,22,23,24,25,26,27,28,29,30,31])\n",
    "d = np.histogram(tenday,bins=a)\n",
    "ht = d[0]\n",
    "x = np.array([1,2,3,4,5,6,7,8,9,10,11,12,13,14,15,16,17,18,19,20,21,22,23,24,25,26,27,28,29,30,31])"
   ]
  },
  {
   "cell_type": "code",
   "execution_count": 49,
   "metadata": {},
   "outputs": [
    {
     "data": {
      "text/plain": [
       "0"
      ]
     },
     "execution_count": 49,
     "metadata": {},
     "output_type": "execute_result"
    }
   ],
   "source": [
    "idx = (tenday >30.0) & (tenday <=31)\n",
    "len(tenday[idx])"
   ]
  },
  {
   "cell_type": "code",
   "execution_count": 50,
   "metadata": {},
   "outputs": [
    {
     "data": {
      "text/plain": [
       "Text(0, 0.5, 'Number of Fields')"
      ]
     },
     "execution_count": 50,
     "metadata": {},
     "output_type": "execute_result"
    },
    {
     "data": {
      "image/png": "[encoded data removed]",
      "text/plain": [
       "<Figure size 720x576 with 1 Axes>"
      ]
     },
     "metadata": {
      "needs_background": "light"
     },
     "output_type": "display_data"
    }
   ],
   "source": [
    "fig = plt.figure(figsize=(10,8))\n",
    "plt.bar(x,height=ht,alpha=0.5)\n",
    "plt.xlabel('Every 10 days in 2019')\n",
    "plt.ylabel('Number of Fields')"
   ]
  },
  {
   "cell_type": "code",
   "execution_count": null,
   "metadata": {},
   "outputs": [],
   "source": []
  }
 ],
 "metadata": {
  "kernelspec": {
   "display_name": "Python 3",
   "language": "python",
   "name": "python3"
  },
  "language_info": {
   "codemirror_mode": {
    "name": "ipython",
    "version": 3
   },
   "file_extension": ".py",
   "mimetype": "text/x-python",
   "name": "python",
   "nbconvert_exporter": "python",
   "pygments_lexer": "ipython3",
   "version": "3.7.2"
  }
 },
 "nbformat": 4,
 "nbformat_minor": 2
}
